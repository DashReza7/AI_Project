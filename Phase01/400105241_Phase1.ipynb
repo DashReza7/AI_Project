{
  "cells": [
    {
      "cell_type": "markdown",
      "metadata": {},
      "source": [
        "# Map Matching Project - Phase 1\n",
        "<div style=\"text-align: center\">\n",
        "<h1 style = \"color: red\"> Sharif University Of Technology</h1>\n",
        "<h2 style = \"color: green\"> DR. Mahdieh Soleymani | DR. MohammadHossein Rohban </h2>\n",
        "<h3 style = \"color: cyan\"> Head of Project: AmirHossein Razlighi <h3>\n",
        "<h3 style = \"color: cyan\"> Designed By: AmirHossein Razlighi - Hamidreza Yaghoubi - Alireza Heidari - Reza Vahidi Majd - Parham Rezaei<h3>\n",
        "<h3 style = \"color: cyan\"> Documents Designed by: Mohammad Moshtaghi Far<h3>\n",
        "<h4 style = \"color: white\"> Ask your questions via quera</h4>\n",
        "<h5> Save your file with format: STUDENT NUMBER_Phase1.ipynb or .zip </h5>\n",
        "</div>"
      ]
    },
    {
      "cell_type": "markdown",
      "metadata": {
        "id": "NwJh3NuumTZT"
      },
      "source": [
        "Setting up the environment"
      ]
    },
    {
      "cell_type": "code",
      "execution_count": null,
      "metadata": {
        "colab": {
          "base_uri": "https://localhost:8080/"
        },
        "id": "JTKl9O5glmbP",
        "outputId": "e0087573-d26c-4f57-9616-e4a98b4605fd"
      },
      "outputs": [],
      "source": [
        "# %pip install pyrosm keplergl haversine pandas numpy"
      ]
    },
    {
      "cell_type": "code",
      "execution_count": 1,
      "metadata": {
        "id": "SbtVTMtTlmbQ"
      },
      "outputs": [],
      "source": [
        "import datetime\n",
        "import numpy as np\n",
        "import pandas as pd\n",
        "import pyrosm\n",
        "import random\n",
        "import ssl\n",
        "import time\n",
        "import keplergl\n",
        "from pyrosm import OSM, get_data\n",
        "import math\n",
        "import matplotlib.pyplot as plt"
      ]
    },
    {
      "cell_type": "code",
      "execution_count": null,
      "metadata": {},
      "outputs": [],
      "source": [
        "# If you are using colab, you need to run this cell\n",
        "# from google.colab import output\n",
        "# output.enable_custom_widget_manager()"
      ]
    },
    {
      "cell_type": "markdown",
      "metadata": {},
      "source": [
        "## Introduction\n",
        "In this phase of project, you are going to implement a *denoising algorithm*. In many cases, when an application is dealing with _user GPS location_, in many urban areas and the places with tall towers, the GPS signal gets too noisy! This is the reason of why when you open \"google maps\", you see your current location with a blue circle around it. The radius of this circle shows the accuracy of your location. Sometimes, this radius is around 10m and in other areas, it goes in scale of km, making the GPS location totally unstable and unreliable! This amount of noise makes it impossible to use the data for any kind of analysis. In \"ride hailing\" applications like Uber, many of functionalities rely on the accuracy of GPS data. E.g. ETA estimation (Estimated time of arrival) is highly dependent on the accuracy of GPS data. In this phase, you are going to implement a denoising algorithm to make the GPS data more reliable. You will use your kowledge of Hidden Markov Models to implement this algorithm.\n",
        "\n",
        "<div style=\"text-align: center\">\n",
        "<img src=\"./Images/blue_dot.jpg\" height=\"500\" width=\"auto\" /> </br>\n",
        "(Sample of GPS data with blue dot)\n",
        "</div>"
      ]
    },
    {
      "cell_type": "markdown",
      "metadata": {},
      "source": [
        "# Loading Pasdaran streets dataset"
      ]
    },
    {
      "cell_type": "markdown",
      "metadata": {},
      "source": [
        "In this section, you will load a dataset that is prepared for you. The dataset contains some GPS locations (nodes) from Pasdaran Streets and also another dataset which contains the \"streets\" in Pasdaran area. By \"street\" we mean a pair of nodes, representing two end-points of a street in the map. These datasets are in `Data/` folder with names `pasdaran_streets.csv` and `pasdaran_nodes.csv`."
      ]
    },
    {
      "cell_type": "code",
      "execution_count": 2,
      "metadata": {},
      "outputs": [],
      "source": [
        "# Load the data\n",
        "pasdaran_streets = pd.read_csv('pasdaran_streets.csv')\n",
        "pasdaran_nodes = pd.read_csv('pasdaran_nodes.csv')"
      ]
    },
    {
      "cell_type": "code",
      "execution_count": 3,
      "metadata": {},
      "outputs": [
        {
          "data": {
            "text/html": [
              "<div>\n",
              "<style scoped>\n",
              "    .dataframe tbody tr th:only-of-type {\n",
              "        vertical-align: middle;\n",
              "    }\n",
              "\n",
              "    .dataframe tbody tr th {\n",
              "        vertical-align: top;\n",
              "    }\n",
              "\n",
              "    .dataframe thead th {\n",
              "        text-align: right;\n",
              "    }\n",
              "</style>\n",
              "<table border=\"1\" class=\"dataframe\">\n",
              "  <thead>\n",
              "    <tr style=\"text-align: right;\">\n",
              "      <th></th>\n",
              "      <th>street_id</th>\n",
              "      <th>u</th>\n",
              "      <th>v</th>\n",
              "      <th>length</th>\n",
              "      <th>oneway</th>\n",
              "      <th>u_lat</th>\n",
              "      <th>u_lon</th>\n",
              "      <th>v_lat</th>\n",
              "      <th>v_lon</th>\n",
              "    </tr>\n",
              "  </thead>\n",
              "  <tbody>\n",
              "    <tr>\n",
              "      <th>0</th>\n",
              "      <td>5003747</td>\n",
              "      <td>423833948</td>\n",
              "      <td>423793584</td>\n",
              "      <td>90.570</td>\n",
              "      <td>no</td>\n",
              "      <td>35.772419</td>\n",
              "      <td>51.465652</td>\n",
              "      <td>35.771748</td>\n",
              "      <td>51.465084</td>\n",
              "    </tr>\n",
              "    <tr>\n",
              "      <th>1</th>\n",
              "      <td>17099043</td>\n",
              "      <td>177540293</td>\n",
              "      <td>423832815</td>\n",
              "      <td>296.273</td>\n",
              "      <td>yes</td>\n",
              "      <td>35.771034</td>\n",
              "      <td>51.464462</td>\n",
              "      <td>35.772175</td>\n",
              "      <td>51.461494</td>\n",
              "    </tr>\n",
              "    <tr>\n",
              "      <th>2</th>\n",
              "      <td>787945693</td>\n",
              "      <td>4429684144</td>\n",
              "      <td>423832815</td>\n",
              "      <td>62.573</td>\n",
              "      <td>no</td>\n",
              "      <td>35.772636</td>\n",
              "      <td>51.461891</td>\n",
              "      <td>35.772175</td>\n",
              "      <td>51.461494</td>\n",
              "    </tr>\n",
              "    <tr>\n",
              "      <th>3</th>\n",
              "      <td>687277053</td>\n",
              "      <td>177540293</td>\n",
              "      <td>423793585</td>\n",
              "      <td>97.898</td>\n",
              "      <td>no</td>\n",
              "      <td>35.771034</td>\n",
              "      <td>51.464462</td>\n",
              "      <td>35.770317</td>\n",
              "      <td>51.463833</td>\n",
              "    </tr>\n",
              "    <tr>\n",
              "      <th>4</th>\n",
              "      <td>36333153</td>\n",
              "      <td>9339973930</td>\n",
              "      <td>423793585</td>\n",
              "      <td>296.275</td>\n",
              "      <td>yes</td>\n",
              "      <td>35.771458</td>\n",
              "      <td>51.460865</td>\n",
              "      <td>35.770317</td>\n",
              "      <td>51.463833</td>\n",
              "    </tr>\n",
              "  </tbody>\n",
              "</table>\n",
              "</div>"
            ],
            "text/plain": [
              "   street_id           u          v   length oneway      u_lat      u_lon  \\\n",
              "0    5003747   423833948  423793584   90.570     no  35.772419  51.465652   \n",
              "1   17099043   177540293  423832815  296.273    yes  35.771034  51.464462   \n",
              "2  787945693  4429684144  423832815   62.573     no  35.772636  51.461891   \n",
              "3  687277053   177540293  423793585   97.898     no  35.771034  51.464462   \n",
              "4   36333153  9339973930  423793585  296.275    yes  35.771458  51.460865   \n",
              "\n",
              "       v_lat      v_lon  \n",
              "0  35.771748  51.465084  \n",
              "1  35.772175  51.461494  \n",
              "2  35.772175  51.461494  \n",
              "3  35.770317  51.463833  \n",
              "4  35.770317  51.463833  "
            ]
          },
          "execution_count": 3,
          "metadata": {},
          "output_type": "execute_result"
        }
      ],
      "source": [
        "pasdaran_streets.head()"
      ]
    },
    {
      "cell_type": "code",
      "execution_count": 4,
      "metadata": {},
      "outputs": [
        {
          "data": {
            "text/html": [
              "<div>\n",
              "<style scoped>\n",
              "    .dataframe tbody tr th:only-of-type {\n",
              "        vertical-align: middle;\n",
              "    }\n",
              "\n",
              "    .dataframe tbody tr th {\n",
              "        vertical-align: top;\n",
              "    }\n",
              "\n",
              "    .dataframe thead th {\n",
              "        text-align: right;\n",
              "    }\n",
              "</style>\n",
              "<table border=\"1\" class=\"dataframe\">\n",
              "  <thead>\n",
              "    <tr style=\"text-align: right;\">\n",
              "      <th></th>\n",
              "      <th>id</th>\n",
              "      <th>lat</th>\n",
              "      <th>lon</th>\n",
              "    </tr>\n",
              "  </thead>\n",
              "  <tbody>\n",
              "    <tr>\n",
              "      <th>0</th>\n",
              "      <td>423833948</td>\n",
              "      <td>35.772419</td>\n",
              "      <td>51.465652</td>\n",
              "    </tr>\n",
              "    <tr>\n",
              "      <th>1</th>\n",
              "      <td>423793584</td>\n",
              "      <td>35.771748</td>\n",
              "      <td>51.465084</td>\n",
              "    </tr>\n",
              "    <tr>\n",
              "      <th>2</th>\n",
              "      <td>177536927</td>\n",
              "      <td>35.776230</td>\n",
              "      <td>51.465034</td>\n",
              "    </tr>\n",
              "    <tr>\n",
              "      <th>3</th>\n",
              "      <td>177540293</td>\n",
              "      <td>35.771034</td>\n",
              "      <td>51.464462</td>\n",
              "    </tr>\n",
              "    <tr>\n",
              "      <th>4</th>\n",
              "      <td>423832815</td>\n",
              "      <td>35.772175</td>\n",
              "      <td>51.461494</td>\n",
              "    </tr>\n",
              "  </tbody>\n",
              "</table>\n",
              "</div>"
            ],
            "text/plain": [
              "          id        lat        lon\n",
              "0  423833948  35.772419  51.465652\n",
              "1  423793584  35.771748  51.465084\n",
              "2  177536927  35.776230  51.465034\n",
              "3  177540293  35.771034  51.464462\n",
              "4  423832815  35.772175  51.461494"
            ]
          },
          "execution_count": 4,
          "metadata": {},
          "output_type": "execute_result"
        }
      ],
      "source": [
        "pasdaran_nodes.head()"
      ]
    },
    {
      "cell_type": "code",
      "execution_count": 5,
      "metadata": {},
      "outputs": [
        {
          "name": "stdout",
          "output_type": "stream",
          "text": [
            "User Guide: https://docs.kepler.gl/docs/keplergl-jupyter\n"
          ]
        },
        {
          "data": {
            "application/vnd.jupyter.widget-view+json": {
              "model_id": "4f67e87ec0a44273b83ac74e2a653daa",
              "version_major": 2,
              "version_minor": 0
            },
            "text/plain": [
              "KeplerGl(data={'pasdaran_nodes': {'index': [0, 1, 2, 3, 4, 5, 6, 7, 8, 9, 10, 11, 12, 13, 14, 15, 16, 17, 18, …"
            ]
          },
          "metadata": {},
          "output_type": "display_data"
        }
      ],
      "source": [
        "# Visualize pasdaran_streets using kepler\n",
        "map = keplergl.KeplerGl()\n",
        "map.add_data(name='pasdaran_nodes', data=pasdaran_nodes)\n",
        "map\n"
      ]
    },
    {
      "cell_type": "markdown",
      "metadata": {
        "id": "osSfUikvvQ6Q"
      },
      "source": [
        "# Creating dataset for trip"
      ]
    },
    {
      "cell_type": "markdown",
      "metadata": {
        "id": "HR3QM8DKvWWt"
      },
      "source": [
        "As you understood, until now, we loaded 2 datasets, `pasdaran_nodes` and `pasdaran_streets`. Now, we should create a dataset from these, such that we can use it for our trip. Each item in this dataset is called a `ride`. We will explain more as we go on."
      ]
    },
    {
      "cell_type": "markdown",
      "metadata": {},
      "source": [
        "First, we should create a **trip** for a driver. For this sake, we should choose 2 random points in our map as the source and destination of the trip. Now, we should find the streets that connect these 2 points. Each street has a length. You should find the shortest path between these 2 points (source and destination) which are in the `pasdaran_streets`. Note that this path should be the **shortest path** meaning that the sum of the lengths of streets should be minimum.\n",
        "\n",
        "**NOTE**: You cannot use any library for finding the shortest path. You should implement it yourself, from scratch. Feel free to use any algorithm and heuristic that you want. Be creative!\n",
        "\n",
        "**NOTE**: Be aware of \"length of streets\" and whether or not they are \"one_way\"!"
      ]
    },
    {
      "cell_type": "code",
      "execution_count": 6,
      "metadata": {
        "id": "w909XhNelmbT"
      },
      "outputs": [],
      "source": [
        "import heapq\n",
        "\n",
        "class min_heap:\n",
        "    def __init__(self):\n",
        "        self._queue = []\n",
        "        self._index = 0\n",
        "    \n",
        "    def push(self, item, priority):\n",
        "        heapq.heappush(self._queue, (priority, self._index, item))\n",
        "        self._index += 1\n",
        "\n",
        "    def pop(self):\n",
        "        return heapq.heappop(self._queue)[-1]\n",
        "        \n",
        "    \n",
        "    def size(self):\n",
        "        return len(self._queue)\n",
        "\n",
        "\n",
        "def restore_path(start_node, end_node, pred):\n",
        "    path = []\n",
        "    cur = end_node\n",
        "    while True:\n",
        "        path.append(cur)\n",
        "        if cur == start_node:\n",
        "            break\n",
        "        cur = pred[cur]\n",
        "    path.reverse()\n",
        "    return path\n",
        "    \n",
        "\n",
        "# TODO: You should implement this from scratch and you cannot use any library (such as networkx) for finding the shortest path.\n",
        "# Dijkstra's algorithm\n",
        "def find_shortest_path(start_node, end_node, graph):\n",
        "    \"\"\"\n",
        "    Find the shortest path between two nodes in a graph.\n",
        "    :param start_node: The start node\n",
        "    :param end_node: The end node\n",
        "    :param graph: The graph\n",
        "    :return: The shortest path. It is a list of node_ids from start_node to end_node.\n",
        "    Note that you use all of the data in \"pasdaran_streets\" dataset appropriately such as \"street_length\" and \"one_way\".\n",
        "    \"\"\"\n",
        "    if isinstance(start_node, tuple):\n",
        "        lat_1, lon_1 = start_node\n",
        "        lat_2, lon_2 = end_node\n",
        "        row = graph[((graph['u_lat'] == lat_1) & (graph['u_lon'] == lon_1))]\n",
        "        if len(row) > 0:\n",
        "            start_node = row['u'].values[0]\n",
        "        else:\n",
        "            row = graph[((graph['v_lat'] == lat_1) & (graph['v_lon'] == lon_1))]\n",
        "            start_node = row['v'].values[0]\n",
        "        \n",
        "        row = graph[((graph['u_lat'] == lat_2) & (graph['u_lon'] == lon_2))]\n",
        "        if len(row) > 0:\n",
        "            end_node = row['u'].values[0]\n",
        "        else:\n",
        "            row = graph[((graph['v_lat'] == lat_2) & (graph['v_lon'] == lon_2))]\n",
        "            end_node = row['v'].values[0]\n",
        "    \n",
        "    # Build the adjacency list\n",
        "    adj = dict()\n",
        "    for index, row in graph.iterrows():\n",
        "        u = row['u']\n",
        "        v = row['v']\n",
        "        w = row['length']\n",
        "        \n",
        "        if u not in adj:\n",
        "            adj[u] = set()\n",
        "        if v not in adj:\n",
        "            adj[v] = set()\n",
        "        adj[u].add((v, w))\n",
        "        adj[v].add((u, w))\n",
        "\n",
        "    is_done = set()\n",
        "    dist = {start_node: 0}\n",
        "    pq = min_heap()\n",
        "    pq.push(start_node, 0)\n",
        "    pred = dict()\n",
        "\n",
        "    while pq.size() > 0:\n",
        "        u = pq.pop()\n",
        "        is_done.add(u)\n",
        "        if u == end_node:\n",
        "            return restore_path(start_node, end_node, pred)\n",
        "        for neighbor in adj[u]:\n",
        "            v = neighbor[0]\n",
        "            w = neighbor[1]\n",
        "            if v in is_done:\n",
        "                continue\n",
        "            if v not in dist:\n",
        "                dist[v] = float('inf')\n",
        "            if dist[u] + w < dist[v]:\n",
        "                dist[v] = dist[u] + w\n",
        "                pred[v] = u\n",
        "                pq.push(v, dist[v])\n",
        "    return []\n",
        "\n",
        "    "
      ]
    },
    {
      "cell_type": "markdown",
      "metadata": {},
      "source": [
        "You should **upload** this cell (`find_shortest_path` function) as a .py file to quera. Your code will be verified if it is actually finding the shortest path and only if it's correct, you will get the grades of this section. Be sure that you put the approriate `import ...` statements at the first of your `.py` file. Remember, you **can not** use any library that does the \"shortest path\" for you. (like networkx) You should implement it yourself.\n",
        "\n",
        "**Note**: You can add other functions and codes to above cell, but you code should have the `find_shortest_path` function with exactly same signature that we have provided. Your code will be tested with calling this function. So, using other functions is not a problem, but keep in mind that the main entry for your code when we test it is the `find_shortest_path` function. Nothing else!"
      ]
    },
    {
      "cell_type": "code",
      "execution_count": 7,
      "metadata": {},
      "outputs": [
        {
          "name": "stdout",
          "output_type": "stream",
          "text": [
            "[4403810840, 10286634512, 2170381752, 10286634511, 423816404, 4403810838, 423816405, 9357300681, 4692533034, 423816406, 4695837565, 4683382443, 4695737210, 4695737204, 7606688922, 4695737212, 423815687, 1762129786, 1762129788, 1762129779, 423816039, 4379726018, 4695666786, 4379726017, 806589535, 806589358, 4695818010, 4695818011, 423832591, 4879764419, 10882786110, 1864300723, 10882786107, 423832805, 423793656, 423832793, 423793595, 4379726019, 30772620, 4379726029, 429412485, 4429680695, 423793594, 423832802, 423793593, 423832796, 9339973930, 4429680702, 423832815, 4429684144, 423793591, 423832946, 423832945, 2106802326, 423832944, 4695969112, 423832943, 4482481112, 423832942, 423832817, 423832941, 1707151179, 423833040, 4657965378, 423833041, 423833042, 4696632873, 4698562496, 6089414139, 6089414123, 6089414124, 6089414125, 6089414130, 6089414131, 6089414132, 6089414133, 6089414140, 1707151218]\n"
          ]
        }
      ],
      "source": [
        "# Create a trip: Choose 2 random points as start and end points and find the shortest path between them.\n",
        "# A trip is a list of node_ids from start_node to end_node.\n",
        "# TODO: Implement and print out a sample trip\n",
        "\n",
        "\n",
        "# start_node = 4493669625\n",
        "# end_node = 5667400227\n",
        "\n",
        "# start_node = 1762129807 \n",
        "# end_node = 4698536184\n",
        "\n",
        "# start_node = 4696627039\n",
        "# end_node = 423816012\n",
        "\n",
        "start_node = 4403810840\n",
        "end_node = 1707151218\n",
        "\n",
        "# start_node = 423832815\n",
        "# end_node = 177540293\n",
        "\n",
        "# start_node = 177540293\n",
        "# end_node = 423832815\n",
        "\n",
        "# start_node = 423830747\n",
        "# end_node = 4316456836\n",
        "\n",
        "trip = find_shortest_path(start_node, end_node, pasdaran_streets)\n",
        "print(trip)"
      ]
    },
    {
      "cell_type": "markdown",
      "metadata": {
        "id": "YP2kS2GHx02G"
      },
      "source": [
        "Visualize the sampled trip (in the previous cell) on the map. Use `kepler` library for this purpose. Notice that you use keplers \"timestep\" attributes to create a timeline, so you can see the trip's process from _start\\_node_ to _end\\_node_. (You can see an output sample in the next cell)"
      ]
    },
    {
      "cell_type": "code",
      "execution_count": 8,
      "metadata": {
        "colab": {
          "base_uri": "https://localhost:8080/",
          "height": 511
        },
        "id": "kWhW3mIizZ0_",
        "outputId": "1a3319b9-fac1-42ef-e666-8072a9e6ab5f"
      },
      "outputs": [
        {
          "name": "stdout",
          "output_type": "stream",
          "text": [
            "User Guide: https://docs.kepler.gl/docs/keplergl-jupyter\n"
          ]
        },
        {
          "data": {
            "application/vnd.jupyter.widget-view+json": {
              "model_id": "59a95822078241188bb08c27af3c7e26",
              "version_major": 2,
              "version_minor": 0
            },
            "text/plain": [
              "KeplerGl(data={'trip_nodes': {'index': [0, 1, 2, 3, 4, 5, 6, 7, 8, 9, 10, 11, 12, 13, 14, 15, 16, 17, 18, 19, …"
            ]
          },
          "metadata": {},
          "output_type": "display_data"
        }
      ],
      "source": [
        "#TODO: Visualize the sampled trip using kepler\n",
        "trip_df = pd.DataFrame({'id': [], 'lat': [], 'lon': [], 'time': []})\n",
        "for i in range(len(trip)):\n",
        "    row = pasdaran_nodes[pasdaran_nodes['id'] == trip[i]]\n",
        "    new_data = pd.DataFrame({'id': trip[i], 'lat': row['lat'], 'lon': row['lon'], 'time': i})\n",
        "    trip_df = pd.concat([trip_df, new_data], ignore_index=True)\n",
        "\n",
        "tmp_map = keplergl.KeplerGl()\n",
        "tmp_map.add_data(data=trip_df, name='trip_nodes')\n",
        "\n",
        "tmp_map"
      ]
    },
    {
      "cell_type": "markdown",
      "metadata": {
        "id": "2GRdEUrF7EgN"
      },
      "source": [
        "Now, we are going to get the points in the middle of the streets. Before, we only had the intersections of the streets(start and end nodes of a section). But we know in real life, we get gps locations also in between and not necessarily in the intersections. So, we should add these points to our data. We call every entity of this type as `Ride`. A ride is defined by 3 parameters:\n",
        "1. `ride_speed`: The speed of the ride which driver is driving with. We assume that the driver is driving with a constant speed.\n",
        "2. `driver_gps_time`: The time interval that the driver sends his/her gps location to the server. (e.g. every 5 seconds)\n",
        "3. `trip`: The specific trip that the driver is driving in. (we created this in the previous cells)\n",
        "\n",
        "Now, you should define a function that gets these parameters and returns the locations (lat/longs) in the ride regarding the given parameters."
      ]
    },
    {
      "cell_type": "code",
      "execution_count": 9,
      "metadata": {},
      "outputs": [],
      "source": [
        "import builtins as buin\n",
        "\n",
        "R = 6371000 \n",
        "\n",
        "# distance of two points\n",
        "def haversine(lat1, lon1, lat2, lon2):\n",
        "    lat1, lon1, lat2, lon2 = buin.map(math.radians, [lat1, lon1, lat2, lon2])\n",
        "\n",
        "    dlat = lat2 - lat1\n",
        "    dlon = lon2 - lon1\n",
        "\n",
        "    # Haversine formula\n",
        "    a = math.sin(dlat/2)**2 + math.cos(lat1) * math.cos(lat2) * math.sin(dlon/2)**2\n",
        "    c = 2 * math.atan2(math.sqrt(a), math.sqrt(1-a))\n",
        "    distance = R * c\n",
        "\n",
        "    return distance\n",
        "\n",
        "\n",
        "def calculate_initial_bearing(lat1, lon1, lat2, lon2):\n",
        "    lat1, lon1, lat2, lon2 = buin.map(math.radians, [lat1, lon1, lat2, lon2])\n",
        "\n",
        "    dlon = lon2 - lon1\n",
        "\n",
        "    # Calculate initial bearing\n",
        "    x = math.sin(dlon) * math.cos(lat2)\n",
        "    y = math.cos(lat1) * math.sin(lat2) - (math.sin(lat1) * math.cos(lat2) * math.cos(dlon))\n",
        "    initial_bearing = math.atan2(x, y)\n",
        "\n",
        "    initial_bearing = (math.degrees(initial_bearing) + 360) % 360\n",
        "\n",
        "    return initial_bearing\n",
        "\n",
        "\n",
        "def move_towards(lat1, lon1, lat2, lon2, distance):\n",
        "    # Calculate initial bearing\n",
        "    initial_bearing = calculate_initial_bearing(lat1, lon1, lat2, lon2)\n",
        "\n",
        "    # Move towards the destination with the specified distance\n",
        "    lat2, lon2 = move_towards_initial(lat1, lon1, initial_bearing, distance)\n",
        "\n",
        "    return lat2, lon2\n",
        "\n",
        "\n",
        "def move_towards_initial(lat1, lon1, brng, distance):\n",
        "    lat1, lon1, brng = buin.map(math.radians, [lat1, lon1, brng])\n",
        "\n",
        "    lat2 = math.asin(math.sin(lat1) * math.cos(distance/R) + math.cos(lat1) * math.sin(distance/R) * math.cos(brng))\n",
        "\n",
        "    lon2 = lon1 + math.atan2(math.sin(brng) * math.sin(distance/R) * math.cos(lat1),\n",
        "                             math.cos(distance/R) - math.sin(lat1) * math.sin(lat2))\n",
        "\n",
        "    lat2, lon2 = buin.map(math.degrees, [lat2, lon2])\n",
        "\n",
        "    return lat2, lon2"
      ]
    },
    {
      "cell_type": "code",
      "execution_count": 10,
      "metadata": {
        "id": "WSkJzEmelmbU"
      },
      "outputs": [],
      "source": [
        "#TODO\n",
        "# output.  KeplerGL()\n",
        "# input. rides: a list of rides,   use_timesteps: use timestep on the corresponding ride,      use_animation: use animation on the corresponding ride\n",
        "def visualize_a_ride(rides, use_timesteps, use_animations):\n",
        "    map = keplergl.KeplerGl()\n",
        "    for i in range(len(rides)):\n",
        "        ride = rides[i]\n",
        "        use_timestep = use_timesteps[i]\n",
        "        use_animation = use_animations[i]\n",
        "        df = pd.DataFrame(ride, columns=['lat', 'lon'])\n",
        "        timestep_col = [i for i in range(len(df))]\n",
        "        if use_timestep:\n",
        "            df['timestep'] = timestep_col\n",
        "        # TODO: implement animation\n",
        "        map.add_data(name=f'nodes_{i}', data=df)\n",
        "    return map        \n",
        "        \n",
        "\n",
        "# return [[lat_i, lon_i], ...]\n",
        "def get_ride(ride_speed, ride_gps_time, trip):\n",
        "    # (node_id, lat, lon)\n",
        "    trip_data = []\n",
        "    for node in trip:\n",
        "        row = pasdaran_nodes[pasdaran_nodes['id'] == node]\n",
        "        trip_data.append((node, row['lat'], row['lon']))\n",
        "    \n",
        "    # [length]\n",
        "    streets_trip = []\n",
        "    for i in range(len(trip_data) - 1):\n",
        "        row = pasdaran_streets[((pasdaran_streets['u'] == trip_data[i][0]) & (pasdaran_streets['v'] == trip_data[i + 1][0])) | ((pasdaran_streets['v'] == trip_data[i][0]) & (pasdaran_streets['u'] == trip_data[i + 1][0]))]\n",
        "        streets_trip.append(row['length'].values[0])\n",
        "    \n",
        "    delta_x = ride_speed * ride_gps_time\n",
        "    ride = []\n",
        "    ride.append([trip_data[0][1], trip_data[0][2]])\n",
        "    i = 0\n",
        "    cur_pos = [trip_data[0][1], trip_data[0][2]]\n",
        "    while i < len(trip_data) - 1:\n",
        "        dx = delta_x\n",
        "        # distance of current_pos to the next node\n",
        "        lngth = haversine(cur_pos[0], cur_pos[1], trip_data[i + 1][1], trip_data[i + 1][2])\n",
        "        while dx >= lngth:\n",
        "            i += 1\n",
        "            if i == len(trip_data) - 1:\n",
        "                break\n",
        "            dx -= lngth\n",
        "            cur_pos = [trip_data[i][1], trip_data[i][2]]\n",
        "            lngth = streets_trip[i]\n",
        "        if i == len(trip_data) - 1:\n",
        "            break\n",
        "        new_lat, new_lon = move_towards(cur_pos[0], cur_pos[1], trip_data[i + 1][1], trip_data[i + 1][2], dx)\n",
        "        cur_pos = [new_lat, new_lon]\n",
        "        ride.append([new_lat, new_lon])\n",
        "    ride.append([trip_data[-1][1], trip_data[-1][2]])\n",
        "\n",
        "    return ride\n"
      ]
    },
    {
      "cell_type": "markdown",
      "metadata": {
        "id": "WuXoo-N37JS8"
      },
      "source": [
        "See a sample ride, printed out."
      ]
    },
    {
      "cell_type": "code",
      "execution_count": 11,
      "metadata": {
        "colab": {
          "base_uri": "https://localhost:8080/"
        },
        "id": "dMtD7q7TlmbU",
        "outputId": "0842e970-ff9a-492a-d0aa-31c44f8a6103"
      },
      "outputs": [
        {
          "name": "stderr",
          "output_type": "stream",
          "text": [
            "C:\\Users\\masou\\AppData\\Local\\Temp\\ipykernel_11212\\534153284.py:7: FutureWarning: Calling float on a single element Series is deprecated and will raise a TypeError in the future. Use float(ser.iloc[0]) instead\n",
            "  lat1, lon1, lat2, lon2 = buin.map(math.radians, [lat1, lon1, lat2, lon2])\n",
            "C:\\Users\\masou\\AppData\\Local\\Temp\\ipykernel_11212\\534153284.py:21: FutureWarning: Calling float on a single element Series is deprecated and will raise a TypeError in the future. Use float(ser.iloc[0]) instead\n",
            "  lat1, lon1, lat2, lon2 = buin.map(math.radians, [lat1, lon1, lat2, lon2])\n",
            "C:\\Users\\masou\\AppData\\Local\\Temp\\ipykernel_11212\\534153284.py:46: FutureWarning: Calling float on a single element Series is deprecated and will raise a TypeError in the future. Use float(ser.iloc[0]) instead\n",
            "  lat1, lon1, brng = buin.map(math.radians, [lat1, lon1, brng])\n"
          ]
        }
      ],
      "source": [
        "#TODO\n",
        "ride_speed = 10\n",
        "ride_gps_time = 5\n",
        "ride = get_ride(ride_speed=ride_speed, ride_gps_time=ride_gps_time, trip=trip)"
      ]
    },
    {
      "cell_type": "markdown",
      "metadata": {
        "id": "_Bi1o_2o7Q3r"
      },
      "source": [
        "Visualize the sample ride on the map using `kepler` library. You should define an animation based on the order of the points in the ride, so you can play the animation in the visualization and see the ride!"
      ]
    },
    {
      "cell_type": "markdown",
      "metadata": {},
      "source": [
        "## Explanation:\n",
        "We can add the `time` from the upper left window to the filters so that we can see the ride as an animation"
      ]
    },
    {
      "cell_type": "code",
      "execution_count": 12,
      "metadata": {
        "colab": {
          "base_uri": "https://localhost:8080/",
          "height": 511
        },
        "id": "lSqTVxIqlmbU",
        "outputId": "7835933e-d766-4b60-ed5e-732ed19fdd77"
      },
      "outputs": [
        {
          "name": "stdout",
          "output_type": "stream",
          "text": [
            "User Guide: https://docs.kepler.gl/docs/keplergl-jupyter\n"
          ]
        },
        {
          "data": {
            "application/vnd.jupyter.widget-view+json": {
              "model_id": "1b4c164d1ccb451e940688a4db90db0f",
              "version_major": 2,
              "version_minor": 0
            },
            "text/plain": [
              "KeplerGl(data={'nodes_0': {'index': [0, 1, 2, 3, 4, 5, 6, 7, 8, 9, 10, 11, 12, 13, 14, 15, 16, 17, 18, 19, 20,…"
            ]
          },
          "metadata": {},
          "output_type": "display_data"
        }
      ],
      "source": [
        "#TODO: Visualize the sampled ride using kepler\n",
        "map = visualize_a_ride([ride], [True], [False])\n",
        "map\n"
      ]
    },
    {
      "cell_type": "markdown",
      "metadata": {
        "id": "DMixk41z8Zil"
      },
      "source": [
        "Now, to complete our dataset, we need to put some random noise on the gps locations. For this sake, we easily add some random noise to the lat/longs of a created `ride`. You should define a function that gets a `ride` and adds some random noise to the lat/longs of the ride. Your function should take in 2 parameters: _ride_ and _gps\\_noise\\_radius_ which is the radius of the circle that you want to add noise to the gps locations. (e.g. 10 meters). The gps noise in assumed to be a normal distribution. So, assume `standard deviation` of the noise to be `gps_noise_radius`."
      ]
    },
    {
      "cell_type": "code",
      "execution_count": 13,
      "metadata": {
        "colab": {
          "base_uri": "https://localhost:8080/"
        },
        "id": "-ghTr5-IlmbU",
        "outputId": "69044cc2-556d-4ee2-93aa-b05ed36e9444"
      },
      "outputs": [],
      "source": [
        "# put a random noise on each (lat, lon) location to simulate the GPS noise (suppoes GPS radius is 3 - 8 meters)\n",
        "# TODO\n",
        "# Print out a sample\n",
        "def add_noise(ride, gps_noise_radius, method, speed=0):\n",
        "    noisy_ride = [row.copy() for row in ride]\n",
        "    N = len(ride)\n",
        "    if method == 'gaussian':\n",
        "        for i in range(N):\n",
        "            rnd_radius = np.random.normal(0, gps_noise_radius)\n",
        "            rnd_brng = np.random.uniform(0, 360)\n",
        "            new_lat, new_lon = move_towards_initial(ride[i][0], ride[i][1], rnd_brng, rnd_radius)\n",
        "            noisy_ride[i] = [new_lat, new_lon]\n",
        "        return noisy_ride\n",
        "    elif method == 'uniform':\n",
        "        for i in range(N):\n",
        "            rnd_radius = np.random.uniform(0, gps_noise_radius)\n",
        "            rnd_brng = np.random.uniform(0, 360)\n",
        "            new_lat, new_lon = move_towards_initial(ride[i][0], ride[i][1], rnd_brng, rnd_radius)\n",
        "            noisy_ride[i] = [new_lat, new_lon]\n",
        "        return noisy_ride\n",
        "    elif method == 'speed_gaussian':\n",
        "        for i in range(N):\n",
        "            rnd_radius = np.random.uniform(0, gps_noise_radius) * np.sqrt(speed)\n",
        "            rnd_brng = np.random.uniform(0, 360)\n",
        "            new_lat, new_lon = move_towards_initial(ride[i][0], ride[i][1], rnd_brng, rnd_radius)\n",
        "            noisy_ride[i] = [new_lat, new_lon]\n",
        "        return noisy_ride\n",
        "    "
      ]
    },
    {
      "cell_type": "markdown",
      "metadata": {},
      "source": [
        "### Different noise models\n",
        "Experiment adding noise to rides using different models (PDFs) of noise. For example, you can use a uniform distribution for noise. Or you can use a normal distribution for noise. Or you can use a mixture of different distributions. You can also use a distribution that is dependent on the speed of the ride.\n",
        "1. Visualize each noise model (PDF) on a plot. (You can use `matplotlib` library for this purpose)\n",
        "2. Visualize the rides with different noise models on the map. (You can use `kepler` library for this purpose)\n",
        "3. Compare the results of different noise models. Which one is more descriptive of the real world? Why?\n",
        "4. Choose one model that you find appropriate for training your HMM on it. We will use that model for the rest of the project."
      ]
    },
    {
      "cell_type": "code",
      "execution_count": 14,
      "metadata": {},
      "outputs": [
        {
          "name": "stdout",
          "output_type": "stream",
          "text": [
            "User Guide: https://docs.kepler.gl/docs/keplergl-jupyter\n",
            "User Guide: https://docs.kepler.gl/docs/keplergl-jupyter\n",
            "User Guide: https://docs.kepler.gl/docs/keplergl-jupyter\n",
            "User Guide: https://docs.kepler.gl/docs/keplergl-jupyter\n",
            "User Guide: https://docs.kepler.gl/docs/keplergl-jupyter\n",
            "User Guide: https://docs.kepler.gl/docs/keplergl-jupyter\n"
          ]
        },
        {
          "name": "stderr",
          "output_type": "stream",
          "text": [
            "C:\\Users\\masou\\AppData\\Local\\Temp\\ipykernel_11212\\534153284.py:46: FutureWarning: Calling float on a single element Series is deprecated and will raise a TypeError in the future. Use float(ser.iloc[0]) instead\n",
            "  lat1, lon1, brng = buin.map(math.radians, [lat1, lon1, brng])\n",
            "C:\\Users\\masou\\AppData\\Local\\Temp\\ipykernel_11212\\534153284.py:46: FutureWarning: Calling float on a single element Series is deprecated and will raise a TypeError in the future. Use float(ser.iloc[0]) instead\n",
            "  lat1, lon1, brng = buin.map(math.radians, [lat1, lon1, brng])\n",
            "C:\\Users\\masou\\AppData\\Local\\Temp\\ipykernel_11212\\534153284.py:46: FutureWarning: Calling float on a single element Series is deprecated and will raise a TypeError in the future. Use float(ser.iloc[0]) instead\n",
            "  lat1, lon1, brng = buin.map(math.radians, [lat1, lon1, brng])\n",
            "C:\\Users\\masou\\AppData\\Local\\Temp\\ipykernel_11212\\534153284.py:46: FutureWarning: Calling float on a single element Series is deprecated and will raise a TypeError in the future. Use float(ser.iloc[0]) instead\n",
            "  lat1, lon1, brng = buin.map(math.radians, [lat1, lon1, brng])\n",
            "C:\\Users\\masou\\AppData\\Local\\Temp\\ipykernel_11212\\534153284.py:46: FutureWarning: Calling float on a single element Series is deprecated and will raise a TypeError in the future. Use float(ser.iloc[0]) instead\n",
            "  lat1, lon1, brng = buin.map(math.radians, [lat1, lon1, brng])\n",
            "C:\\Users\\masou\\AppData\\Local\\Temp\\ipykernel_11212\\534153284.py:46: FutureWarning: Calling float on a single element Series is deprecated and will raise a TypeError in the future. Use float(ser.iloc[0]) instead\n",
            "  lat1, lon1, brng = buin.map(math.radians, [lat1, lon1, brng])\n"
          ]
        }
      ],
      "source": [
        "#TODO: Experimenting with different GPS noise radiuses\n",
        "gps_noise_radiuses = [8, 40, 100]\n",
        "gaussian_noisy_ride_1 = add_noise(ride, gps_noise_radiuses[0], 'gaussian')\n",
        "gaussian_noisy_map_1 = visualize_a_ride([ride, gaussian_noisy_ride_1], [True, False], [False, False])\n",
        "\n",
        "gaussian_noisy_ride_2 = add_noise(ride, gps_noise_radiuses[1], 'gaussian')\n",
        "gaussian_noisy_map_2 = visualize_a_ride([ride, gaussian_noisy_ride_2], [True, False], [False, False])\n",
        "\n",
        "gaussian_noisy_ride_3 = add_noise(ride, gps_noise_radiuses[2], 'gaussian')\n",
        "gaussian_noisy_map_3 = visualize_a_ride([ride, gaussian_noisy_ride_3], [True, False], [False, False])\n",
        "\n",
        "uniform_noisy_ride_1 = add_noise(ride, gps_noise_radiuses[0], 'uniform')\n",
        "uniform_noisy_map_1 = visualize_a_ride([ride, uniform_noisy_ride_1], [True, False], [False, False])\n",
        "\n",
        "uniform_noisy_ride_2 = add_noise(ride, gps_noise_radiuses[1], 'uniform')\n",
        "uniform_noisy_map_2 = visualize_a_ride([ride, uniform_noisy_ride_2], [True, False], [False, False])\n",
        "\n",
        "speed_gaussian_noisy_ride_1 = add_noise(ride, gps_noise_radiuses[0], 'speed_gaussian', speed=10)\n",
        "speed_gaussian_noisy_map_1 = visualize_a_ride([ride, speed_gaussian_noisy_ride_1], [True, False], [False, False])"
      ]
    },
    {
      "cell_type": "code",
      "execution_count": 15,
      "metadata": {},
      "outputs": [
        {
          "data": {
            "image/png": "[encoded data removed]",
            "text/plain": [
              "<Figure size 640x480 with 1 Axes>"
            ]
          },
          "metadata": {},
          "output_type": "display_data"
        },
        {
          "data": {
            "image/png": "[encoded data removed]",
            "text/plain": [
              "<Figure size 640x480 with 1 Axes>"
            ]
          },
          "metadata": {},
          "output_type": "display_data"
        },
        {
          "data": {
            "image/png": "[encoded data removed]",
            "text/plain": [
              "<Figure size 640x480 with 1 Axes>"
            ]
          },
          "metadata": {},
          "output_type": "display_data"
        }
      ],
      "source": [
        "#TODO: Visualize the noise models using matplotlib\n",
        "def gaussian_pdf(x, mean, std):\n",
        "    return np.exp(-((x - mean) ** 2) / (2 * (std ** 2))) / (std * np.sqrt(2 * np.pi))\n",
        "\n",
        "linspace_gaussian_1 = np.linspace(-30, 30, 200)\n",
        "y_gaussian_1 = []\n",
        "for i in range(len(linspace_gaussian_1)):\n",
        "    y_gaussian_1.append(gaussian_pdf(linspace_gaussian_1[i], 0, gps_noise_radiuses[0]))\n",
        "plt.plot(linspace_gaussian_1, y_gaussian_1)\n",
        "plt.title(f'Gaussian PDF (mean=0, STD={gps_noise_radiuses[0]})')\n",
        "plt.show()\n",
        "\n",
        "linspace_uniform_1 = np.linspace(-1, gps_noise_radiuses[0] + 1, 100)\n",
        "y_uniform_1 = []\n",
        "for i in range(len(linspace_uniform_1)):\n",
        "    x = linspace_uniform_1[i]\n",
        "    if x < 0 or x > gps_noise_radiuses[0]:\n",
        "        y_uniform_1.append(0)\n",
        "    else:\n",
        "        y_uniform_1.append(1 / gps_noise_radiuses[0])\n",
        "plt.plot(linspace_uniform_1, y_uniform_1)\n",
        "plt.title(f'Uniform PDF (a=0, b={gps_noise_radiuses[0]})')\n",
        "plt.show()\n",
        "\n",
        "linspace_speed_gaussian_1 = np.linspace(-300, 300, 10000)\n",
        "y_speed_gaussian_1 = []\n",
        "for i in range(len(linspace_speed_gaussian_1)):\n",
        "    y_speed_gaussian_1.append(gaussian_pdf(linspace_speed_gaussian_1[i], 0, ride_speed * gps_noise_radiuses[0]))\n",
        "plt.plot(linspace_speed_gaussian_1, y_speed_gaussian_1)\n",
        "plt.title(f'Speed Gaussian PDF (mean = 0, STD = {gps_noise_radiuses[0]}, speed={ride_speed})')\n",
        "plt.show()\n",
        "        \n"
      ]
    },
    {
      "cell_type": "code",
      "execution_count": 16,
      "metadata": {},
      "outputs": [
        {
          "name": "stdout",
          "output_type": "stream",
          "text": [
            "Gaussian noise (STD: 8):\n"
          ]
        },
        {
          "data": {
            "application/vnd.jupyter.widget-view+json": {
              "model_id": "a18485f519084a87b8f19d82366c2460",
              "version_major": 2,
              "version_minor": 0
            },
            "text/plain": [
              "KeplerGl(data={'nodes_0': {'index': [0, 1, 2, 3, 4, 5, 6, 7, 8, 9, 10, 11, 12, 13, 14, 15, 16, 17, 18, 19, 20,…"
            ]
          },
          "metadata": {},
          "output_type": "display_data"
        }
      ],
      "source": [
        "#TODO: Visualize the noise models using kepler\n",
        "print(f'Gaussian noise (STD: {gps_noise_radiuses[0]}):')\n",
        "gaussian_noisy_map_1"
      ]
    },
    {
      "cell_type": "code",
      "execution_count": 35,
      "metadata": {},
      "outputs": [
        {
          "name": "stdout",
          "output_type": "stream",
          "text": [
            "Gaussian noise (STD: 40):\n"
          ]
        },
        {
          "data": {
            "application/vnd.jupyter.widget-view+json": {
              "model_id": "8751bc76b046417ebce80f583037edc9",
              "version_major": 2,
              "version_minor": 0
            },
            "text/plain": [
              "KeplerGl(data={'nodes_0': {'index': [0, 1, 2, 3, 4, 5, 6, 7, 8, 9, 10, 11, 12, 13, 14, 15, 16, 17, 18, 19, 20,…"
            ]
          },
          "metadata": {},
          "output_type": "display_data"
        }
      ],
      "source": [
        "print(f'Gaussian noise (STD: {gps_noise_radiuses[1]}):')\n",
        "gaussian_noisy_map_2"
      ]
    },
    {
      "cell_type": "code",
      "execution_count": 36,
      "metadata": {},
      "outputs": [
        {
          "name": "stdout",
          "output_type": "stream",
          "text": [
            "Gaussian noise (STD: 100):\n"
          ]
        },
        {
          "data": {
            "application/vnd.jupyter.widget-view+json": {
              "model_id": "512dae8e9de6496a9fee1db6fa4b8978",
              "version_major": 2,
              "version_minor": 0
            },
            "text/plain": [
              "KeplerGl(data={'nodes_0': {'index': [0, 1, 2, 3, 4, 5, 6, 7, 8, 9, 10, 11, 12, 13, 14, 15, 16, 17, 18, 19, 20,…"
            ]
          },
          "metadata": {},
          "output_type": "display_data"
        }
      ],
      "source": [
        "print(f'Gaussian noise (STD: {gps_noise_radiuses[2]}):')\n",
        "gaussian_noisy_map_3"
      ]
    },
    {
      "cell_type": "code",
      "execution_count": 17,
      "metadata": {},
      "outputs": [
        {
          "name": "stdout",
          "output_type": "stream",
          "text": [
            "Uniform noise ((0, 8))\n"
          ]
        },
        {
          "data": {
            "application/vnd.jupyter.widget-view+json": {
              "model_id": "75e4cf0608064be6b3604d2d04aeb4ae",
              "version_major": 2,
              "version_minor": 0
            },
            "text/plain": [
              "KeplerGl(data={'nodes_0': {'index': [0, 1, 2, 3, 4, 5, 6, 7, 8, 9, 10, 11, 12, 13, 14, 15, 16, 17, 18, 19, 20,…"
            ]
          },
          "metadata": {},
          "output_type": "display_data"
        }
      ],
      "source": [
        "print(f'Uniform noise ((0, {gps_noise_radiuses[0]}))')\n",
        "uniform_noisy_map_1"
      ]
    },
    {
      "cell_type": "code",
      "execution_count": 41,
      "metadata": {},
      "outputs": [
        {
          "name": "stdout",
          "output_type": "stream",
          "text": [
            "Uniform noise ((0, 40))\n"
          ]
        },
        {
          "data": {
            "application/vnd.jupyter.widget-view+json": {
              "model_id": "90113e3003464c6cac8919f2f8f70b7a",
              "version_major": 2,
              "version_minor": 0
            },
            "text/plain": [
              "KeplerGl(data={'nodes_0': {'index': [0, 1, 2, 3, 4, 5, 6, 7, 8, 9, 10, 11, 12, 13, 14, 15, 16, 17, 18, 19, 20,…"
            ]
          },
          "metadata": {},
          "output_type": "display_data"
        }
      ],
      "source": [
        "print(f'Uniform noise ((0, {gps_noise_radiuses[1]}))')\n",
        "uniform_noisy_map_2"
      ]
    },
    {
      "cell_type": "code",
      "execution_count": 18,
      "metadata": {},
      "outputs": [
        {
          "name": "stdout",
          "output_type": "stream",
          "text": [
            "Speed Gaussian Noise (mean=0, STD=8, speed=10)\n"
          ]
        },
        {
          "data": {
            "application/vnd.jupyter.widget-view+json": {
              "model_id": "9ed71a09dfa64cf88a8e3f8dbe994ec8",
              "version_major": 2,
              "version_minor": 0
            },
            "text/plain": [
              "KeplerGl(data={'nodes_0': {'index': [0, 1, 2, 3, 4, 5, 6, 7, 8, 9, 10, 11, 12, 13, 14, 15, 16, 17, 18, 19, 20,…"
            ]
          },
          "metadata": {},
          "output_type": "display_data"
        }
      ],
      "source": [
        "print(f'Speed Gaussian Noise (mean=0, STD={gps_noise_radiuses[0]}, speed={ride_speed})')\n",
        "speed_gaussian_noisy_map_1"
      ]
    },
    {
      "cell_type": "code",
      "execution_count": 19,
      "metadata": {},
      "outputs": [],
      "source": [
        "#TODO: Choose the best model (while you explain why you chose it)\n",
        "rw_noisy_ride = speed_gaussian_noisy_ride_1\n",
        "rw_noisy_map = speed_gaussian_noisy_map_1"
      ]
    },
    {
      "cell_type": "markdown",
      "metadata": {},
      "source": [
        "**Explanation of my noise model:**\n",
        "\n",
        "In the most real world phenomena, noise can be modeled by a gaussian random variable with zero mean. In this example, we know that as speed of the driver increases, the probability of incorrect GPS position increases. <br>\n",
        "So a good way to model the driver's noise, is to use a gaussian random variable with mean:0, STD:(some constant) * f(speed)     (for some f(.))"
      ]
    },
    {
      "cell_type": "markdown",
      "metadata": {
        "id": "ijwtglf39JyI"
      },
      "source": [
        "Visualize a sample `ride` and its corresponding `noisy_ride` (using your selected noise model) on the map."
      ]
    },
    {
      "cell_type": "code",
      "execution_count": 17,
      "metadata": {
        "colab": {
          "base_uri": "https://localhost:8080/",
          "height": 511
        },
        "id": "abyNFZqElmbV",
        "outputId": "b811a58a-6289-406e-afd7-c96e8c1d20b2"
      },
      "outputs": [
        {
          "name": "stdout",
          "output_type": "stream",
          "text": [
            "Gaussian noise multiplied by speed (mean=0, STD=8, speed=10)\n"
          ]
        },
        {
          "data": {
            "application/vnd.jupyter.widget-view+json": {
              "model_id": "5e160a8f288d4db6bb7a8eff81d3efe4",
              "version_major": 2,
              "version_minor": 0
            },
            "text/plain": [
              "KeplerGl(data={'nodes_0': {'index': [0, 1, 2, 3, 4, 5, 6, 7, 8, 9, 10, 11, 12, 13, 14, 15, 16, 17, 18, 19, 20,…"
            ]
          },
          "metadata": {},
          "output_type": "display_data"
        }
      ],
      "source": [
        "#TODO: Visualize using kepler\n",
        "print(f'Gaussian noise multiplied by speed (mean=0, STD={gps_noise_radiuses[0]}, speed={ride_speed})')\n",
        "speed_gaussian_noisy_map_1"
      ]
    },
    {
      "cell_type": "markdown",
      "metadata": {
        "id": "PrNNSj6x-DWd"
      },
      "source": [
        "Now, we create our dataset, We create 20 noisy_rides for each trip."
      ]
    },
    {
      "cell_type": "code",
      "execution_count": 17,
      "metadata": {
        "id": "FxA8kZXP-DHE"
      },
      "outputs": [
        {
          "name": "stderr",
          "output_type": "stream",
          "text": [
            "C:\\Users\\masou\\AppData\\Local\\Temp\\ipykernel_11212\\534153284.py:46: FutureWarning: Calling float on a single element Series is deprecated and will raise a TypeError in the future. Use float(ser.iloc[0]) instead\n",
            "  lat1, lon1, brng = buin.map(math.radians, [lat1, lon1, brng])\n"
          ]
        }
      ],
      "source": [
        "#TODO: create and store 20 noisy_rides as a dataset for our HMM to train on it and experiment with it\n",
        "num_noisy_rides = 20\n",
        "noisy_rides = [add_noise(ride, gps_noise_radiuses[0], 'speed_gaussian', speed=ride_speed) for i in range(num_noisy_rides)]"
      ]
    },
    {
      "cell_type": "markdown",
      "metadata": {
        "id": "labjTZ3hivDJ"
      },
      "source": [
        "# HMM"
      ]
    },
    {
      "cell_type": "markdown",
      "metadata": {},
      "source": [
        "In this section, we want to use the dataset that we created in the previous section to train an HMM model. We want to use HMM models to  **denoise** the gps locations of the rides. We assume that the gps locations of the rides are noisy and we want to denoise them using HMM models. The observations in each _timestamp_ are the observed noisy points in the dataset."
      ]
    },
    {
      "cell_type": "markdown",
      "metadata": {},
      "source": [
        "You should implement a class (or function) named HMM which gets the noisy observations and the `streets` of the map (of course, this is not noisy. we saw that as `pasdaran_streets` in the previous section). You should calculate the transition matrix and emission matrix of the HMM model. You should also implement the `viterbi` algorithm to find the most probable sequence of hidden states (which are the points in the streets) given the noisy observations. Finally, your implementation should be capable of returning the denoised gps locations of the rides. Note that how you define your features, and your states. Be creative!"
      ]
    },
    {
      "cell_type": "code",
      "execution_count": 18,
      "metadata": {
        "colab": {
          "base_uri": "https://localhost:8080/"
        },
        "id": "eljM3-Z6SV8k",
        "outputId": "7947e14a-11af-482c-b872-50ae5e11d988"
      },
      "outputs": [],
      "source": [
        "#TODO: Implement helper functions for your calculations\n",
        "from tqdm import tqdm\n",
        "\n",
        "def cross_track_distance(lat_1, lon_1, lat_2, lon_2, lat_p, lon_p):\n",
        "    delta_1_3 = haversine(lat_1, lon_1, lat_p, lon_p) / R\n",
        "    theta_1_p = calculate_initial_bearing(lat_1, lon_1, lat_p, lon_p)\n",
        "    theta_1_2 = calculate_initial_bearing(lat_1, lon_1, lat_2, lon_2)\n",
        "    return abs(math.asin(math.sin(delta_1_3) * math.sin(math.radians(theta_1_p) - math.radians(theta_1_2))) * R)\n",
        "\n",
        "\n",
        "def project_point_on_arc(lat_1, lon_1, lat_2, lon_2, lat_p, lon_p):\n",
        "    len_1_2 = haversine(lat_1, lon_1, lat_2, lon_2) / R\n",
        "    len_1_p = haversine(lat_1, lon_1, lat_p, lon_p) / R\n",
        "    len_2_p = haversine(lat_2, lon_2, lat_p, lon_p) / R\n",
        "    cos_p_1_2 = (math.cos(len_2_p) - math.cos(len_1_p) * math.cos(len_1_2)) / (math.sin(len_1_p) * math.sin(len_1_2))\n",
        "    cos_p_2_1 = (math.cos(len_1_p) - math.cos(len_2_p) * math.cos(len_1_2)) / (math.sin(len_2_p) * math.sin(len_1_2))\n",
        "    if cos_p_1_2 > 1:\n",
        "        cos_p_1_2 = 1\n",
        "    elif cos_p_1_2 < -1:\n",
        "        cos_p_1_2 = -1\n",
        "    if cos_p_2_1 > 1:\n",
        "        cos_p_2_1 = 1\n",
        "    elif cos_p_2_1 < -1:\n",
        "        cos_p_2_1 = -1\n",
        "    deg_p_1_2 = math.degrees(math.acos(cos_p_1_2))\n",
        "    deg_p_2_1 = math.degrees(math.acos(cos_p_2_1))\n",
        "    if deg_p_1_2 > 90:\n",
        "        return lat_1, lon_1\n",
        "    if deg_p_2_1 > 90:\n",
        "        return lat_2, lon_2\n",
        "    xt_dist = cross_track_distance(lat_1, lon_1, lat_2, lon_2, lat_p, lon_p)\n",
        "    foo = haversine(lat_1, lon_1, lat_p, lon_p)\n",
        "    bar = math.acos(math.cos(foo / R) / math.cos(xt_dist / R)) * R\n",
        "    new_lat, new_lon = move_towards(lat_1, lon_1, lat_2, lon_2, bar)\n",
        "    return new_lat, new_lon\n",
        "\n",
        "\n",
        "def mean_haversine_distance(denoised_points, original_points):\n",
        "    sum = 0.0\n",
        "    for i in range(len(denoised_points)):\n",
        "        sum += haversine(denoised_points.iloc[i]['lat'], denoised_points.iloc[i]['lon'], original_points.iloc[i]['lat'], original_points.iloc[i]['lon'])\n",
        "    sum /= len(denoised_points)\n",
        "    return sum\n",
        "\n",
        "\n",
        "def MHD_list(denoised_points, original_points):\n",
        "    sum = 0.0\n",
        "    for i in range(len(denoised_points)):\n",
        "        sum += haversine(denoised_points[i][0], denoised_points[i][1], original_points[i][0], original_points[i][1])\n",
        "    sum /= len(denoised_points)\n",
        "    return sum\n",
        "\n",
        "\n",
        "def normalize(arr):\n",
        "    s = np.sum(arr)\n",
        "    for i in range(len(arr)):\n",
        "        arr[i] /= s\n",
        "\n",
        "\n",
        "# path: a list of node_id s\n",
        "def find_path_length(path, graph):\n",
        "    if len(path) < 2:\n",
        "        # TODO: fix this\n",
        "        return 200\n",
        "        # print('bug in finding path-length')\n",
        "    sum = 0.0\n",
        "    for i in range(len(path) - 1):\n",
        "        node_id_1 = path[i]\n",
        "        node_id_2 = path[i + 1]\n",
        "        row = graph[(((graph['u'] == node_id_1) & (graph['v'] == node_id_2)) | ((graph['v'] == node_id_1) & (graph['u'] == node_id_2)))]\n",
        "        sum += row['length'].values[0]\n",
        "    return sum\n",
        "\n",
        "\n"
      ]
    },
    {
      "cell_type": "code",
      "execution_count": 19,
      "metadata": {},
      "outputs": [],
      "source": [
        "# Use Viterbi Algorithm to find the most probable set of points (denoised points)\n",
        "sigma = 12.919\n",
        "lamda = 1\n",
        "\n",
        "\n",
        "# return [(lat_proj_i, lon_proj_i, street_index_i)]\n",
        "def get_proj_points(lat, lon):\n",
        "    k = 2\n",
        "    foo = np.zeros(len(pasdaran_streets))\n",
        "    for i in range(len(pasdaran_streets)):\n",
        "        row = pasdaran_streets.iloc[i]\n",
        "        proj_lat, proj_lon = project_point_on_arc(row['u_lat'], row['u_lon'], row['v_lat'], row['v_lon'], lat, lon)\n",
        "        foo[i] = haversine(lat, lon, proj_lat, proj_lon)\n",
        "    bar = np.argpartition(foo, k)[:k]\n",
        "    bar = bar[np.argsort(foo[bar])]\n",
        "    res = []\n",
        "    for street_index in bar:\n",
        "        lat_proj, lon_proj = project_point_on_arc(pasdaran_streets.iloc[street_index]['u_lat'], pasdaran_streets.iloc[street_index]['u_lon'], pasdaran_streets.iloc[street_index]['v_lat'], pasdaran_streets.iloc[street_index]['v_lon'], lat, lon)\n",
        "        res.append((lat_proj, lon_proj, street_index))\n",
        "    return res\n",
        "    \n",
        "    \n",
        "# z: (lat, lon)\n",
        "# x: (lat, lon, street_index)\n",
        "def transition_prob(z, z_prime, x, x_prime):\n",
        "    d_t = abs(haversine(z[0], z[1], z_prime[0], z_prime[1]) - route_distance(x, x_prime))\n",
        "    # d_t = abs(haversine(z[0], z[1], z_prime[0], z_prime[1]) - haversine(x[0], x[1], x_prime[0], x_prime[1]))\n",
        "    return lamda * np.exp(-lamda * d_t)\n",
        "\n",
        "\n",
        "def emission_prob(z, p):\n",
        "    return np.exp(-0.5 * (((haversine(z[0], z[1], p[0], p[1])) / sigma) ** 2)) / (sigma * np.sqrt(2 * np.pi))\n",
        "\n",
        "\n",
        "# p: (lat, lon, street_index)\n",
        "def route_distance(p1, p2):\n",
        "    lat_1 = p1[0]\n",
        "    lon_1 = p1[1]\n",
        "    street_index_1 = p1[2]\n",
        "    lat_2 = p2[0]\n",
        "    lon_2 = p2[1]\n",
        "    street_index_2 = p2[2]\n",
        "\n",
        "    graph = pasdaran_streets.copy(deep=True)\n",
        "    segment_1 = graph.iloc[street_index_1]\n",
        "    segment_2 = graph.iloc[street_index_2]\n",
        "    graph = pd.concat([graph, pd.DataFrame({'street_id': segment_1['street_id'], 'u': [-1], 'v': segment_1['u'], 'length': haversine(lat_1, lon_1, segment_1['u_lat'], segment_1['u_lon']), 'oneway': 'no', 'u_lat': lat_1, 'u_lon': lon_1, 'v_lat': segment_1['u_lat'], 'v_lon': segment_1['u_lon']})], ignore_index=True)\n",
        "    graph = pd.concat([graph, pd.DataFrame({'street_id': segment_1['street_id'], 'u': [-1], 'v': segment_1['v'], 'length': haversine(lat_1, lon_1, segment_1['v_lat'], segment_1['v_lon']), 'oneway': 'no', 'u_lat': lat_1, 'u_lon': lon_1, 'v_lat': segment_1['v_lat'], 'v_lon': segment_1['v_lon']})], ignore_index=True)\n",
        "    graph = pd.concat([graph, pd.DataFrame({'street_id': segment_2['street_id'], 'u': [-2], 'v': segment_2['u'], 'length': haversine(lat_2, lon_2, segment_2['u_lat'], segment_2['u_lon']), 'oneway': 'no', 'u_lat': lat_2, 'u_lon': lon_2, 'v_lat': segment_2['u_lat'], 'v_lon': segment_2['u_lon']})], ignore_index=True)\n",
        "    graph = pd.concat([graph, pd.DataFrame({'street_id': segment_2['street_id'], 'u': [-2], 'v': segment_2['v'], 'length': haversine(lat_2, lon_2, segment_2['v_lat'], segment_2['v_lon']), 'oneway': 'no', 'u_lat': lat_2, 'u_lon': lon_2, 'v_lat': segment_2['v_lat'], 'v_lon': segment_2['v_lon']})], ignore_index=True)\n",
        "    graph = graph.drop([street_index_1, street_index_2])\n",
        "    graph.reset_index(inplace=True)\n",
        "    sp = find_shortest_path(-1, -2, graph)\n",
        "    path_length = find_path_length(sp, graph)\n",
        "    return path_length\n",
        "\n",
        "\n",
        "def denoise_ride_HMM(noisy_dataset):\n",
        "    # 4 segment matches for each noisy_point\n",
        "    N = len(noisy_dataset)\n",
        "    noisy_points = [(noisy_dataset.iloc[i]['lat'], noisy_dataset.iloc[i]['lon']) for i in range(N)]\n",
        "    \n",
        "    proj_points = []\n",
        "    for i in range(N):\n",
        "        proj_points.append(get_proj_points(noisy_dataset.iloc[i]['lat'], noisy_dataset.iloc[i]['lon']))\n",
        "    \n",
        "    # ----------------------\n",
        "    proj_points_0 = proj_points[0]\n",
        "    k = len(proj_points_0)\n",
        "    m_0 = np.zeros(k)\n",
        "    for i in range(k):\n",
        "        # initial prob: uniform\n",
        "        m_0[i] = np.log(emission_prob(noisy_points[0], (proj_points_0[i][0], proj_points_0[i][1])))\n",
        "    normalize(m_0)\n",
        "\n",
        "    dp = []\n",
        "    for i in range(N - 1):\n",
        "        dp.append([])\n",
        "        proj_points_i = proj_points[i]\n",
        "        proj_points_i_prime = proj_points[i + 1]\n",
        "        m = np.zeros(k)\n",
        "        for j in range(k): # to determine m[j]\n",
        "            lst = np.zeros(k)\n",
        "            for t in range(k):\n",
        "                lst[t] = m_0[t] + np.log(transition_prob(noisy_points[i], noisy_points[i + 1], proj_points_i[t], proj_points_i_prime[j])) + np.log(emission_prob(noisy_points[i + 1], proj_points_i_prime[j]))\n",
        "            indx = np.argmax(lst)\n",
        "            m[j] = lst[indx]\n",
        "            dp[-1].append(indx)\n",
        "        normalize(m)\n",
        "        m_0 = m.copy()\n",
        "    \n",
        "    vec = [np.argmax(m_0)]\n",
        "    for i in range(len(dp)):\n",
        "        vec.append(dp[i][vec[-1]])\n",
        "    vec.reverse()\n",
        "    \n",
        "    denoised_points = [[proj_points[i][vec[i]][0], proj_points[i][vec[i]][1]] for i in range(N)]\n",
        "    return denoised_points\n",
        "\n",
        "\n",
        "# Naive implementation (Project each noisy point to the nearest street segment)\n",
        "def denoise_ride_naive(noisy_dataset):\n",
        "    denoised_dataset = noisy_dataset.copy(deep=True)\n",
        "    for j in range(len(noisy_dataset)):\n",
        "        denoised_lat, denoised_lon = denoise_point_naive(noisy_dataset.iloc[j]['lat'], noisy_dataset.iloc[j]['lon'])\n",
        "        denoised_dataset.at[j, 'lat'] = denoised_lat\n",
        "        denoised_dataset.at[j, 'lon'] = denoised_lon\n",
        "    return denoised_dataset\n",
        "        \n",
        "\n",
        "def denoise_point_naive(lat_p, lon_p):\n",
        "    N = len(pasdaran_streets)\n",
        "    segment_dists = np.zeros(N)\n",
        "    for i in range(N):\n",
        "        lat_1 = pasdaran_streets.iloc[i]['u_lat']\n",
        "        lon_1 = pasdaran_streets.iloc[i]['u_lon']\n",
        "        lat_2 = pasdaran_streets.iloc[i]['v_lat']\n",
        "        lon_2 = pasdaran_streets.iloc[i]['v_lon']\n",
        "        proj_lat, proj_lon = project_point_on_arc(lat_1, lon_1, lat_2, lon_2, lat_p, lon_p)\n",
        "        segment_dists[i] = haversine(lat_p, lon_p, proj_lat, proj_lon)\n",
        "    indx = segment_dists.argmin()\n",
        "    \n",
        "    lat_1 = pasdaran_streets.iloc[indx]['u_lat']\n",
        "    lon_1 = pasdaran_streets.iloc[indx]['u_lon']\n",
        "    lat_2 = pasdaran_streets.iloc[indx]['v_lat']\n",
        "    lon_2 = pasdaran_streets.iloc[indx]['v_lon']\n",
        "    return project_point_on_arc(lat_1, lon_1, lat_2, lon_2, lat_p, lon_p)\n"
      ]
    },
    {
      "cell_type": "markdown",
      "metadata": {},
      "source": [
        "Visualize a sample denoised _ride_ using your HMM model. Put `original_points` and `denoised_points` on the map. Use different colors for each of them to make them distinct from eachother. You should use `kepler` library for this purpose."
      ]
    },
    {
      "cell_type": "markdown",
      "metadata": {},
      "source": [
        "# Testing your model"
      ]
    },
    {
      "cell_type": "markdown",
      "metadata": {},
      "source": [
        "In this section, you should test your model. You could use your dataset (which you generated, step-by-step) until now, to implement, debug and train your model. Now, you should load `test_dataset` that we provided to you as `noisy_test_dataset.csv` and `original_test_dataset.csv`. Run your model on `noisy_test_dataset` and use `original_test_dataset` to evaluate how good you did. run your model on `noisy_test_dataset` to denoise the points. You should put the denoised points in a csv file named `denoised_test_dataset.csv` and submit it with your notebook. Also, You should report the **Mean haversine distance (MHD)** as the measaure of the loss of your model. Go through each trip in the `noisy_test_dataset` and calculate the MHD for each trip. Finally, report the average of the MHDs of all the trips in the `test_dataset` as the MHD of your model."
      ]
    },
    {
      "cell_type": "code",
      "execution_count": 26,
      "metadata": {},
      "outputs": [
        {
          "name": "stdout",
          "output_type": "stream",
          "text": [
            "0th MHD: 7.089742468186971\n",
            "1th MHD: 5.974586959202792\n",
            "2th MHD: 12.34698029343187\n",
            "3th MHD: 10.068228046222517\n",
            "4th MHD: 3.1168799456606955\n",
            "5th MHD: 13.312860639416733\n",
            "6th MHD: 12.597225707868189\n",
            "7th MHD: 7.178386648031599\n",
            "8th MHD: 16.132192204200454\n",
            "10th MHD: 9.546535705122446\n",
            "11th MHD: 6.879016893888131\n",
            "12th MHD: 7.233276370300098\n",
            "13th MHD: 1.912984501069138\n",
            "14th MHD: 8.61402708565066\n",
            "15th MHD: 10.65094825905438\n",
            "16th MHD: 6.579492629849363\n",
            "17th MHD: 16.499005012176006\n",
            "18th MHD: 11.59975289500113\n",
            "19th MHD: 14.339255244031486\n",
            "Total MHD: 9.083568875418234\n"
          ]
        }
      ],
      "source": [
        "test_dataset_noisy = pd.read_csv(\"noisy_test_dataset.csv\")\n",
        "test_dataset_original = pd.read_csv(\"original_test_dataset.csv\")\n",
        "denoised_dataset = test_dataset_noisy.copy(deep=True)\n",
        "\n",
        "N = test_dataset_noisy['trip_id'].max() + 1\n",
        "sum = 0.0\n",
        "cnt = 0\n",
        "for i in range(N):\n",
        "    df_noisy = test_dataset_noisy[test_dataset_noisy['trip_id'] == i]\n",
        "    df_orig = test_dataset_original[test_dataset_original['trip_id'] == i]\n",
        "    if len(df_noisy) == 0:\n",
        "        continue\n",
        "    original_ride = [[df_orig.iloc[j]['lat'], df_orig.iloc[j]['lon']] for j in range(len(df_orig))]\n",
        "    denoised_ride = denoise_ride_HMM(df_noisy)\n",
        "    for j in range(len(denoised_ride)):\n",
        "        denoised_dataset.at[cnt, 'lat'] = denoised_ride[j][0]\n",
        "        denoised_dataset.at[cnt, 'lon'] = denoised_ride[j][1]\n",
        "        cnt += 1\n",
        "\n",
        "    mhd = MHD_list(denoised_ride, original_ride)\n",
        "    print(f'{i}th MHD: {mhd}')\n",
        "    sum += mhd\n",
        "sum /= N\n",
        "print(f'Total MHD: {sum}')\n",
        "    "
      ]
    },
    {
      "cell_type": "code",
      "execution_count": 18,
      "metadata": {},
      "outputs": [
        {
          "ename": "NameError",
          "evalue": "name 'denoised_dataset' is not defined",
          "output_type": "error",
          "traceback": [
            "\u001b[1;31m---------------------------------------------------------------------------\u001b[0m",
            "\u001b[1;31mNameError\u001b[0m                                 Traceback (most recent call last)",
            "Cell \u001b[1;32mIn[18], line 1\u001b[0m\n\u001b[1;32m----> 1\u001b[0m \u001b[43mdenoised_dataset\u001b[49m\u001b[38;5;241m.\u001b[39mto_csv(\u001b[38;5;124m'\u001b[39m\u001b[38;5;124mdenoised_test_dataset.csv\u001b[39m\u001b[38;5;124m'\u001b[39m, index\u001b[38;5;241m=\u001b[39m\u001b[38;5;28;01mFalse\u001b[39;00m)\n",
            "\u001b[1;31mNameError\u001b[0m: name 'denoised_dataset' is not defined"
          ]
        }
      ],
      "source": [
        "denoised_dataset.to_csv('denoised_test_dataset.csv', index=False)"
      ]
    },
    {
      "cell_type": "code",
      "execution_count": 19,
      "metadata": {},
      "outputs": [
        {
          "ename": "NameError",
          "evalue": "name 'denoised_dataset' is not defined",
          "output_type": "error",
          "traceback": [
            "\u001b[1;31m---------------------------------------------------------------------------\u001b[0m",
            "\u001b[1;31mNameError\u001b[0m                                 Traceback (most recent call last)",
            "Cell \u001b[1;32mIn[19], line 2\u001b[0m\n\u001b[0;32m      1\u001b[0m \u001b[38;5;66;03m# Visualizing denoised dataset and original dataset\u001b[39;00m\n\u001b[1;32m----> 2\u001b[0m df_denoised \u001b[38;5;241m=\u001b[39m \u001b[43mdenoised_dataset\u001b[49m[denoised_dataset[\u001b[38;5;124m'\u001b[39m\u001b[38;5;124mtrip_id\u001b[39m\u001b[38;5;124m'\u001b[39m] \u001b[38;5;241m==\u001b[39m \u001b[38;5;241m1\u001b[39m]\n\u001b[0;32m      3\u001b[0m df_original \u001b[38;5;241m=\u001b[39m test_dataset_original[test_dataset_original[\u001b[38;5;124m'\u001b[39m\u001b[38;5;124mtrip_id\u001b[39m\u001b[38;5;124m'\u001b[39m] \u001b[38;5;241m==\u001b[39m \u001b[38;5;241m1\u001b[39m]\n\u001b[0;32m      5\u001b[0m denoised_ride \u001b[38;5;241m=\u001b[39m [[df_denoised\u001b[38;5;241m.\u001b[39miloc[i][\u001b[38;5;124m'\u001b[39m\u001b[38;5;124mlat\u001b[39m\u001b[38;5;124m'\u001b[39m], df_denoised\u001b[38;5;241m.\u001b[39miloc[i][\u001b[38;5;124m'\u001b[39m\u001b[38;5;124mlon\u001b[39m\u001b[38;5;124m'\u001b[39m]] \u001b[38;5;28;01mfor\u001b[39;00m i \u001b[38;5;129;01min\u001b[39;00m \u001b[38;5;28mrange\u001b[39m(\u001b[38;5;28mlen\u001b[39m(df_denoised))]\n",
            "\u001b[1;31mNameError\u001b[0m: name 'denoised_dataset' is not defined"
          ]
        }
      ],
      "source": [
        "# Visualizing denoised dataset and original dataset\n",
        "df_denoised = denoised_dataset[denoised_dataset['trip_id'] == 1]\n",
        "df_original = test_dataset_original[test_dataset_original['trip_id'] == 1]\n",
        "\n",
        "denoised_ride = [[df_denoised.iloc[i]['lat'], df_denoised.iloc[i]['lon']] for i in range(len(df_denoised))]\n",
        "original_ride = [[df_original.iloc[i]['lat'], df_original.iloc[i]['lon']] for i in range(len(df_original))]\n",
        "map = visualize_a_ride([denoised_ride, original_ride], [False, True], [False, False])\n",
        "map"
      ]
    },
    {
      "cell_type": "markdown",
      "metadata": {},
      "source": [
        "**How to submit**: You should submit your notebook and the `denoised_test_dataset.csv` file. Your codes are verified based on the \"Mean haversine distance\" value that your code gets and the `denoised_test_dataset.csv`. Also, note that for the **shortest path** section, you should have submitted the `.py` file, containing the `def find_shotest_path(start_node, end_node, graph)` function (and all of necessary imports) on quera. Your code will be verified based on the correctness of the shortest path that you find. So, you should submit these in total:\n",
        "1. `STUDENT_NUMBER_Phase1.ipynb` or `.zip` file containing your notebook and the `denoised_test_dataset.csv` file.\n",
        "2. `STUDENT_NUMBER_Phase1.py` file containing the `find_shortest_path` function. (Also submit this to the related section in quera)\n",
        "3. Printed out Average Haversine Distance in the last cell of notebook. (This should be of order $10^{-3}$)"
      ]
    },
    {
      "cell_type": "code",
      "execution_count": 30,
      "metadata": {},
      "outputs": [
        {
          "name": "stdout",
          "output_type": "stream",
          "text": [
            "MHD of denoised_test_dataset and original_test_dataset: 9.0835688753963\n"
          ]
        }
      ],
      "source": [
        "df_denoised_tmp = pd.read_csv('denoised_test_dataset.csv')\n",
        "df_orig_tmp = pd.read_csv('original_test_dataset.csv')\n",
        "\n",
        "sum = 0.0\n",
        "N = df_denoised_tmp['trip_id'].max() + 1\n",
        "for i in range(N):\n",
        "    df_tmp1 = df_denoised_tmp[df_denoised_tmp['trip_id'] == i]\n",
        "    df_tmp2 = df_orig_tmp[df_orig_tmp['trip_id'] == i]\n",
        "    if len(df_tmp1) == 0:\n",
        "        continue\n",
        "    tmp = mean_haversine_distance(df_tmp1, df_tmp2)\n",
        "    sum += tmp\n",
        "sum /= N\n",
        "print(f'MHD of denoised_test_dataset and original_test_dataset: {sum}')\n",
        "    \n",
        "    "
      ]
    }
  ],
  "metadata": {
    "colab": {
      "provenance": []
    },
    "kernelspec": {
      "display_name": "Python 3",
      "name": "python3"
    },
    "language_info": {
      "codemirror_mode": {
        "name": "ipython",
        "version": 3
      },
      "file_extension": ".py",
      "mimetype": "text/x-python",
      "name": "python",
      "nbconvert_exporter": "python",
      "pygments_lexer": "ipython3",
      "version": "3.11.5"
    },
    "widgets": {
      "application/vnd.jupyter.widget-state+json": {
        "77b588a25f604d019680da94df72f8d6": {
          "model_module": "keplergl-jupyter",
          "model_module_version": "^0.3.2",
          "model_name": "KeplerGlModal",
          "state": {
            "_dom_classes": [],
            "_model_module": "keplergl-jupyter",
            "_model_module_version": "^0.3.2",
            "_model_name": "KeplerGlModal",
            "_view_count": null,
            "_view_module": "keplergl-jupyter",
            "_view_module_version": "^0.3.2",
            "_view_name": "KeplerGlView",
            "config": {
              "config": {
                "mapState": {
                  "bearing": 0,
                  "dragRotate": false,
                  "isSplit": false,
                  "latitude": 35.741495361297474,
                  "longitude": 51.41731369359277,
                  "pitch": 0,
                  "zoom": 12.133728990493546
                },
                "mapStyle": {
                  "mapStyles": {},
                  "styleType": "dark",
                  "threeDBuildingColor": [
                    9.665468314072013,
                    17.18305478057247,
                    31.1442867897876
                  ],
                  "topLayerGroups": {},
                  "visibleLayerGroups": {
                    "3d building": false,
                    "border": false,
                    "building": true,
                    "label": true,
                    "land": true,
                    "road": true,
                    "water": true
                  }
                },
                "visState": {
                  "animationConfig": {
                    "currentTime": null,
                    "speed": 1
                  },
                  "filters": [],
                  "interactionConfig": {
                    "brush": {
                      "enabled": false,
                      "size": 0.5
                    },
                    "coordinate": {
                      "enabled": false
                    },
                    "geocoder": {
                      "enabled": false
                    },
                    "tooltip": {
                      "compareMode": false,
                      "compareType": "absolute",
                      "enabled": true,
                      "fieldsToShow": {
                        "all_data": [
                          {
                            "format": null,
                            "name": "type"
                          }
                        ]
                      }
                    }
                  },
                  "layerBlending": "normal",
                  "layers": [
                    {
                      "config": {
                        "color": [
                          18,
                          147,
                          154
                        ],
                        "columns": {
                          "altitude": null,
                          "lat": "lat",
                          "lng": "lon"
                        },
                        "dataId": "all_data",
                        "hidden": false,
                        "highlightColor": [
                          252,
                          242,
                          26,
                          255
                        ],
                        "isVisible": true,
                        "label": "locations",
                        "textLabel": [
                          {
                            "alignment": "center",
                            "anchor": "start",
                            "color": [
                              255,
                              255,
                              255
                            ],
                            "field": null,
                            "offset": [
                              0,
                              0
                            ],
                            "size": 18
                          }
                        ],
                        "visConfig": {
                          "colorRange": {
                            "category": "ColorBrewer",
                            "colors": [
                              "#e41a1c",
                              "#377eb8",
                              "#4daf4a",
                              "#984ea3",
                              "#ff7f00",
                              "#ffff33"
                            ],
                            "name": "ColorBrewer Set1-6",
                            "type": "qualitative"
                          },
                          "filled": true,
                          "fixedRadius": false,
                          "opacity": 0.8,
                          "outline": false,
                          "radius": 10,
                          "radiusRange": [
                            0,
                            50
                          ],
                          "strokeColor": null,
                          "strokeColorRange": {
                            "category": "Uber",
                            "colors": [
                              "#5A1846",
                              "#900C3F",
                              "#C70039",
                              "#E3611C",
                              "#F1920E",
                              "#FFC300"
                            ],
                            "name": "Global Warming",
                            "type": "sequential"
                          },
                          "thickness": 2
                        }
                      },
                      "id": "ivbjosj",
                      "type": "point",
                      "visualChannels": {
                        "colorField": {
                          "name": "type",
                          "type": "string"
                        },
                        "colorScale": "ordinal",
                        "sizeField": null,
                        "sizeScale": "linear",
                        "strokeColorField": null,
                        "strokeColorScale": "quantile"
                      }
                    }
                  ],
                  "splitMaps": []
                }
              },
              "version": "v1"
            },
            "data": {
              "all_data": {
                "columns": [
                  "lat",
                  "lon",
                  "type"
                ],
                "data": [
                  [
                    35.76289749145508,
                    51.41752243041992,
                    "university"
                  ],
                  [
                    35.78015899658203,
                    51.31702423095703,
                    "university"
                  ],
                  [
                    35.75886917114258,
                    51.400691986083984,
                    "university"
                  ],
                  [
                    35.80634689331055,
                    51.43412780761719,
                    "university"
                  ],
                  [
                    35.70586395263672,
                    51.39415740966797,
                    "university"
                  ],
                  [
                    35.71175765991211,
                    51.41083908081055,
                    "university"
                  ],
                  [
                    35.703773498535156,
                    51.399173736572266,
                    "university"
                  ],
                  [
                    35.6207160949707,
                    51.391910552978516,
                    "university"
                  ],
                  [
                    35.70736312866211,
                    51.39768600463867,
                    "university"
                  ],
                  [
                    35.70258331298828,
                    51.41768264770508,
                    "university"
                  ],
                  [
                    35.70863342285156,
                    51.38536071777344,
                    "university"
                  ],
                  [
                    35.77996826171875,
                    51.380184173583984,
                    "university"
                  ],
                  [
                    35.72111511230469,
                    51.38161849975586,
                    "university"
                  ],
                  [
                    35.79006576538086,
                    51.312965393066406,
                    "university"
                  ],
                  [
                    35.72325134277344,
                    51.385257720947266,
                    "university"
                  ],
                  [
                    35.72307205200195,
                    51.38475036621094,
                    "university"
                  ],
                  [
                    35.800254821777344,
                    51.462608337402344,
                    "university"
                  ],
                  [
                    35.8005485534668,
                    51.46290588378906,
                    "university"
                  ],
                  [
                    35.80044937133789,
                    51.46282958984375,
                    "university"
                  ],
                  [
                    35.8001708984375,
                    51.4626350402832,
                    "university"
                  ],
                  [
                    35.80037307739258,
                    51.46287155151367,
                    "university"
                  ],
                  [
                    35.809818267822266,
                    51.46974182128906,
                    "university"
                  ],
                  [
                    35.80210876464844,
                    51.49042510986328,
                    "university"
                  ],
                  [
                    35.802467346191406,
                    51.49069595336914,
                    "university"
                  ],
                  [
                    35.802852630615234,
                    51.491119384765625,
                    "university"
                  ],
                  [
                    35.805320739746094,
                    51.49176025390625,
                    "university"
                  ],
                  [
                    35.69378662109375,
                    51.411800384521484,
                    "university"
                  ],
                  [
                    35.70403289794922,
                    51.35809326171875,
                    "high_school"
                  ],
                  [
                    35.75897979736328,
                    51.350746154785156,
                    "high_school"
                  ],
                  [
                    35.71183395385742,
                    51.49424743652344,
                    "high_school"
                  ],
                  [
                    35.66155242919922,
                    51.351497650146484,
                    "high_school"
                  ],
                  [
                    35.662174224853516,
                    51.35105895996094,
                    "high_school"
                  ],
                  [
                    35.66262435913086,
                    51.351051330566406,
                    "high_school"
                  ],
                  [
                    35.77766036987305,
                    51.33124923706055,
                    "high_school"
                  ],
                  [
                    35.71391677856445,
                    51.459285736083984,
                    "high_school"
                  ],
                  [
                    35.69200897216797,
                    51.39494705200195,
                    "high_school"
                  ],
                  [
                    35.71049880981445,
                    51.47433090209961,
                    "high_school"
                  ],
                  [
                    35.631343841552734,
                    51.409542083740234,
                    "high_school"
                  ],
                  [
                    35.629573822021484,
                    51.410064697265625,
                    "high_school"
                  ],
                  [
                    35.75343704223633,
                    51.527591705322266,
                    "high_school"
                  ],
                  [
                    35.690223693847656,
                    51.392024993896484,
                    "high_school"
                  ],
                  [
                    35.73594665527344,
                    51.29774475097656,
                    "high_school"
                  ],
                  [
                    35.724422454833984,
                    51.406089782714844,
                    "cafe"
                  ],
                  [
                    35.774654388427734,
                    51.37675857543945,
                    "cafe"
                  ],
                  [
                    35.767845153808594,
                    51.44182586669922,
                    "cafe"
                  ],
                  [
                    35.75910568237305,
                    51.453399658203125,
                    "cafe"
                  ],
                  [
                    35.790802001953125,
                    51.41978073120117,
                    "cafe"
                  ],
                  [
                    35.697750091552734,
                    51.407203674316406,
                    "cafe"
                  ],
                  [
                    35.75694274902344,
                    51.34369659423828,
                    "cafe"
                  ],
                  [
                    35.79023361206055,
                    51.49240493774414,
                    "cafe"
                  ],
                  [
                    35.76307678222656,
                    51.33781814575195,
                    "cafe"
                  ],
                  [
                    35.77212905883789,
                    51.38304138183594,
                    "cafe"
                  ],
                  [
                    35.70368576049805,
                    51.4019775390625,
                    "cafe"
                  ],
                  [
                    35.722991943359375,
                    51.40835189819336,
                    "cafe"
                  ],
                  [
                    35.727569580078125,
                    51.407840728759766,
                    "cafe"
                  ],
                  [
                    35.63152313232422,
                    51.41822052001953,
                    "cafe"
                  ],
                  [
                    35.709388732910156,
                    51.42061996459961,
                    "cafe"
                  ],
                  [
                    35.725318908691406,
                    51.41109848022461,
                    "cafe"
                  ],
                  [
                    35.70684051513672,
                    51.414459228515625,
                    "cafe"
                  ],
                  [
                    35.6965446472168,
                    51.42274856567383,
                    "cafe"
                  ],
                  [
                    35.725250244140625,
                    51.33550262451172,
                    "cafe"
                  ],
                  [
                    35.753082275390625,
                    51.333251953125,
                    "cafe"
                  ],
                  [
                    35.69471740722656,
                    51.41681671142578,
                    "cafe"
                  ],
                  [
                    35.71518325805664,
                    51.419681549072266,
                    "cafe"
                  ],
                  [
                    35.76353073120117,
                    51.4109992980957,
                    "cafe"
                  ],
                  [
                    35.71308898925781,
                    51.41477584838867,
                    "cafe"
                  ],
                  [
                    35.76559066772461,
                    51.45576858520508,
                    "cafe"
                  ],
                  [
                    35.76375961303711,
                    51.3369140625,
                    "cafe"
                  ],
                  [
                    35.75556182861328,
                    51.45295715332031,
                    "cafe"
                  ],
                  [
                    35.72909927368164,
                    51.41273880004883,
                    "cafe"
                  ],
                  [
                    35.73232650756836,
                    51.48518371582031,
                    "cafe"
                  ],
                  [
                    35.723331451416016,
                    51.42930221557617,
                    "cafe"
                  ],
                  [
                    35.76866149902344,
                    51.458248138427734,
                    "cafe"
                  ],
                  [
                    35.76603317260742,
                    51.354736328125,
                    "cafe"
                  ],
                  [
                    35.71354675292969,
                    51.39773178100586,
                    "cafe"
                  ],
                  [
                    35.707435607910156,
                    51.39046096801758,
                    "cafe"
                  ],
                  [
                    35.7591438293457,
                    51.404632568359375,
                    "cafe"
                  ],
                  [
                    35.7248649597168,
                    51.404911041259766,
                    "cafe"
                  ],
                  [
                    35.729496002197266,
                    51.3992805480957,
                    "cafe"
                  ],
                  [
                    35.726768493652344,
                    51.40500259399414,
                    "cafe"
                  ],
                  [
                    35.71022033691406,
                    51.44589614868164,
                    "cafe"
                  ],
                  [
                    35.76286697387695,
                    51.444618225097656,
                    "cafe"
                  ],
                  [
                    35.75719451904297,
                    51.41733169555664,
                    "cafe"
                  ],
                  [
                    35.77216720581055,
                    51.43892288208008,
                    "cafe"
                  ],
                  [
                    35.70035934448242,
                    51.38949966430664,
                    "cafe"
                  ],
                  [
                    35.762081146240234,
                    51.381324768066406,
                    "cafe"
                  ],
                  [
                    35.785369873046875,
                    51.4234504699707,
                    "cafe"
                  ],
                  [
                    35.776527404785156,
                    51.36223220825195,
                    "cafe"
                  ],
                  [
                    35.77958679199219,
                    51.367088317871094,
                    "cafe"
                  ],
                  [
                    35.700286865234375,
                    51.40456771850586,
                    "cafe"
                  ],
                  [
                    35.771156311035156,
                    51.37647247314453,
                    "cafe"
                  ],
                  [
                    35.777076721191406,
                    51.413604736328125,
                    "cafe"
                  ],
                  [
                    35.786170959472656,
                    51.371952056884766,
                    "cafe"
                  ],
                  [
                    35.70206069946289,
                    51.398681640625,
                    "cafe"
                  ],
                  [
                    35.71193313598633,
                    51.42136001586914,
                    "cafe"
                  ],
                  [
                    35.70170974731445,
                    51.40547180175781,
                    "cafe"
                  ],
                  [
                    35.68861770629883,
                    51.41917419433594,
                    "cafe"
                  ],
                  [
                    35.70580291748047,
                    51.425819396972656,
                    "cafe"
                  ],
                  [
                    35.70561218261719,
                    51.423526763916016,
                    "cafe"
                  ],
                  [
                    35.70561599731445,
                    51.42327117919922,
                    "cafe"
                  ],
                  [
                    35.70555114746094,
                    51.42277908325195,
                    "cafe"
                  ],
                  [
                    35.71506881713867,
                    51.421897888183594,
                    "cafe"
                  ],
                  [
                    35.73873519897461,
                    51.313541412353516,
                    "cafe"
                  ],
                  [
                    35.7122688293457,
                    51.416194915771484,
                    "cafe"
                  ],
                  [
                    35.745811462402344,
                    51.40472412109375,
                    "cafe"
                  ],
                  [
                    35.708072662353516,
                    51.39726638793945,
                    "cafe"
                  ],
                  [
                    35.79587936401367,
                    51.443939208984375,
                    "cafe"
                  ],
                  [
                    35.76286315917969,
                    51.45756912231445,
                    "cafe"
                  ],
                  [
                    35.71192169189453,
                    51.421627044677734,
                    "cafe"
                  ],
                  [
                    35.794410705566406,
                    51.4733772277832,
                    "cafe"
                  ],
                  [
                    35.71864700317383,
                    51.428504943847656,
                    "cafe"
                  ],
                  [
                    35.72669982910156,
                    51.30411911010742,
                    "cafe"
                  ],
                  [
                    35.676116943359375,
                    51.42127227783203,
                    "cafe"
                  ],
                  [
                    35.754127502441406,
                    51.41910934448242,
                    "cafe"
                  ],
                  [
                    35.71757125854492,
                    51.426536560058594,
                    "cafe"
                  ],
                  [
                    35.72337341308594,
                    51.429283142089844,
                    "cafe"
                  ],
                  [
                    35.705440521240234,
                    51.406158447265625,
                    "cafe"
                  ],
                  [
                    35.69971466064453,
                    51.402793884277344,
                    "cafe"
                  ],
                  [
                    35.72304153442383,
                    51.322532653808594,
                    "cafe"
                  ],
                  [
                    35.78276062011719,
                    51.436344146728516,
                    "cafe"
                  ],
                  [
                    35.774322509765625,
                    51.42145538330078,
                    "cafe"
                  ],
                  [
                    35.776405334472656,
                    51.41335678100586,
                    "cafe"
                  ],
                  [
                    35.73759460449219,
                    51.41489028930664,
                    "cafe"
                  ],
                  [
                    35.79175567626953,
                    51.43525695800781,
                    "cafe"
                  ],
                  [
                    35.72116470336914,
                    51.33324432373047,
                    "cafe"
                  ],
                  [
                    35.80258560180664,
                    51.457584381103516,
                    "cafe"
                  ],
                  [
                    35.764713287353516,
                    51.45895004272461,
                    "cafe"
                  ],
                  [
                    35.738582611083984,
                    51.313663482666016,
                    "cafe"
                  ],
                  [
                    35.80086898803711,
                    51.48409652709961,
                    "cafe"
                  ],
                  [
                    35.78458023071289,
                    51.37349319458008,
                    "cafe"
                  ],
                  [
                    35.79568099975586,
                    51.39535903930664,
                    "cafe"
                  ],
                  [
                    35.749855041503906,
                    51.39814758300781,
                    "cafe"
                  ],
                  [
                    35.74991226196289,
                    51.398136138916016,
                    "cafe"
                  ],
                  [
                    35.70216369628906,
                    51.40282440185547,
                    "cafe"
                  ],
                  [
                    35.70133972167969,
                    51.43513870239258,
                    "cafe"
                  ],
                  [
                    35.697845458984375,
                    51.378562927246094,
                    "cafe"
                  ],
                  [
                    35.7081413269043,
                    51.41559982299805,
                    "cafe"
                  ],
                  [
                    35.724266052246094,
                    51.43381881713867,
                    "cafe"
                  ],
                  [
                    35.70137405395508,
                    51.41690444946289,
                    "cafe"
                  ],
                  [
                    35.77505111694336,
                    51.436336517333984,
                    "cafe"
                  ],
                  [
                    35.7017936706543,
                    51.39128112792969,
                    "cafe"
                  ],
                  [
                    35.744571685791016,
                    51.398643493652344,
                    "cafe"
                  ],
                  [
                    35.715763092041016,
                    51.41240692138672,
                    "cafe"
                  ],
                  [
                    35.69470977783203,
                    51.41780090332031,
                    "cafe"
                  ],
                  [
                    35.6952018737793,
                    51.43265914916992,
                    "cafe"
                  ],
                  [
                    35.68989944458008,
                    51.42830276489258,
                    "cafe"
                  ],
                  [
                    35.699588775634766,
                    51.4194450378418,
                    "cafe"
                  ],
                  [
                    35.768795013427734,
                    51.462345123291016,
                    "cafe"
                  ],
                  [
                    35.76981735229492,
                    51.45973205566406,
                    "cafe"
                  ],
                  [
                    35.80223083496094,
                    51.45801544189453,
                    "cafe"
                  ],
                  [
                    35.760799407958984,
                    51.40492630004883,
                    "cafe"
                  ],
                  [
                    35.78624725341797,
                    51.42687225341797,
                    "cafe"
                  ],
                  [
                    35.78534698486328,
                    51.42979049682617,
                    "cafe"
                  ],
                  [
                    35.711185455322266,
                    51.41284942626953,
                    "cafe"
                  ],
                  [
                    35.75334548950195,
                    51.4124641418457,
                    "cafe"
                  ],
                  [
                    35.69802474975586,
                    51.40579605102539,
                    "cafe"
                  ],
                  [
                    35.72294998168945,
                    51.44863510131836,
                    "cafe"
                  ],
                  [
                    35.69292068481445,
                    51.41434860229492,
                    "cafe"
                  ],
                  [
                    35.78012466430664,
                    51.36083221435547,
                    "cafe"
                  ],
                  [
                    35.78132629394531,
                    51.335052490234375,
                    "cafe"
                  ],
                  [
                    35.70237731933594,
                    51.402347564697266,
                    "cafe"
                  ],
                  [
                    35.723018646240234,
                    51.43146896362305,
                    "cafe"
                  ],
                  [
                    35.701480865478516,
                    51.41166687011719,
                    "cafe"
                  ],
                  [
                    35.70283508300781,
                    51.42124938964844,
                    "cafe"
                  ],
                  [
                    35.68946838378906,
                    51.40704345703125,
                    "cafe"
                  ],
                  [
                    35.721275329589844,
                    51.433589935302734,
                    "cafe"
                  ],
                  [
                    35.77017593383789,
                    51.49202346801758,
                    "cafe"
                  ],
                  [
                    35.79787826538086,
                    51.44856262207031,
                    "cafe"
                  ],
                  [
                    35.7652587890625,
                    51.35844039916992,
                    "cafe"
                  ],
                  [
                    35.76520919799805,
                    51.358177185058594,
                    "cafe"
                  ],
                  [
                    35.76002502441406,
                    51.33375930786133,
                    "cafe"
                  ],
                  [
                    35.75056076049805,
                    51.39841842651367,
                    "cafe"
                  ],
                  [
                    35.80780029296875,
                    51.42704772949219,
                    "cafe"
                  ],
                  [
                    35.764312744140625,
                    51.350582122802734,
                    "cafe"
                  ],
                  [
                    35.7015495300293,
                    51.40038299560547,
                    "cafe"
                  ],
                  [
                    35.70505142211914,
                    51.41578674316406,
                    "cafe"
                  ],
                  [
                    35.72111511230469,
                    51.320438385009766,
                    "cafe"
                  ],
                  [
                    35.70899200439453,
                    51.41307830810547,
                    "cafe"
                  ],
                  [
                    35.757083892822266,
                    51.45296096801758,
                    "cafe"
                  ],
                  [
                    35.761966705322266,
                    51.459712982177734,
                    "cafe"
                  ],
                  [
                    35.703556060791016,
                    51.41585159301758,
                    "cafe"
                  ],
                  [
                    35.707763671875,
                    51.434471130371094,
                    "cafe"
                  ],
                  [
                    35.76963806152344,
                    51.44078826904297,
                    "cafe"
                  ],
                  [
                    35.80937957763672,
                    51.454627990722656,
                    "cafe"
                  ],
                  [
                    35.71023941040039,
                    51.414215087890625,
                    "cafe"
                  ],
                  [
                    35.71392822265625,
                    51.41915512084961,
                    "cafe"
                  ],
                  [
                    35.726234436035156,
                    51.526702880859375,
                    "cafe"
                  ],
                  [
                    35.71406555175781,
                    51.418296813964844,
                    "cafe"
                  ],
                  [
                    35.77045822143555,
                    51.46163558959961,
                    "cafe"
                  ],
                  [
                    35.70259094238281,
                    51.40258026123047,
                    "cafe"
                  ],
                  [
                    35.698856353759766,
                    51.406341552734375,
                    "cafe"
                  ],
                  [
                    35.77899169921875,
                    51.376319885253906,
                    "cafe"
                  ],
                  [
                    35.729434967041016,
                    51.49258804321289,
                    "cafe"
                  ],
                  [
                    35.76433181762695,
                    51.4845085144043,
                    "cafe"
                  ],
                  [
                    35.77115249633789,
                    51.35517120361328,
                    "cafe"
                  ],
                  [
                    35.76969528198242,
                    51.4264030456543,
                    "cafe"
                  ],
                  [
                    35.7047119140625,
                    51.390804290771484,
                    "cafe"
                  ],
                  [
                    35.7903938293457,
                    51.461238861083984,
                    "cafe"
                  ],
                  [
                    35.755149841308594,
                    51.45304870605469,
                    "cafe"
                  ],
                  [
                    35.74198532104492,
                    51.44419860839844,
                    "cafe"
                  ],
                  [
                    35.7099609375,
                    51.41895294189453,
                    "cafe"
                  ],
                  [
                    35.78750228881836,
                    51.423526763916016,
                    "cafe"
                  ],
                  [
                    35.70117950439453,
                    51.41415786743164,
                    "cafe"
                  ],
                  [
                    35.70115280151367,
                    51.41484451293945,
                    "cafe"
                  ],
                  [
                    35.77179718017578,
                    51.42901611328125,
                    "cafe"
                  ],
                  [
                    35.71628952026367,
                    51.417999267578125,
                    "cafe"
                  ],
                  [
                    35.69702911376953,
                    51.40525817871094,
                    "cafe"
                  ],
                  [
                    35.70446014404297,
                    51.40089416503906,
                    "cafe"
                  ],
                  [
                    35.63487243652344,
                    51.381256103515625,
                    "cafe"
                  ],
                  [
                    35.697288513183594,
                    51.40028381347656,
                    "cafe"
                  ],
                  [
                    35.79673385620117,
                    51.44426345825195,
                    "cafe"
                  ],
                  [
                    35.72031021118164,
                    51.405006408691406,
                    "cafe"
                  ],
                  [
                    35.76267623901367,
                    51.4416389465332,
                    "cafe"
                  ],
                  [
                    35.70962905883789,
                    51.38954162597656,
                    "cafe"
                  ],
                  [
                    35.721492767333984,
                    51.43083953857422,
                    "cafe"
                  ],
                  [
                    35.745323181152344,
                    51.5163688659668,
                    "cafe"
                  ],
                  [
                    35.768775939941406,
                    51.466094970703125,
                    "cafe"
                  ],
                  [
                    35.76815414428711,
                    51.4650993347168,
                    "cafe"
                  ],
                  [
                    35.790218353271484,
                    51.46113204956055,
                    "cafe"
                  ],
                  [
                    35.76251220703125,
                    51.41444778442383,
                    "cafe"
                  ],
                  [
                    35.77495574951172,
                    51.436492919921875,
                    "cafe"
                  ],
                  [
                    35.79266357421875,
                    51.452789306640625,
                    "cafe"
                  ],
                  [
                    35.73377990722656,
                    51.34520721435547,
                    "cafe"
                  ],
                  [
                    35.72542190551758,
                    51.4110221862793,
                    "cafe"
                  ],
                  [
                    35.7710075378418,
                    51.420745849609375,
                    "cafe"
                  ],
                  [
                    35.702369689941406,
                    51.40862274169922,
                    "cafe"
                  ],
                  [
                    35.80111312866211,
                    51.415992736816406,
                    "cafe"
                  ],
                  [
                    35.71823501586914,
                    51.420616149902344,
                    "cafe"
                  ],
                  [
                    35.702415466308594,
                    51.39781951904297,
                    "cafe"
                  ],
                  [
                    35.64780044555664,
                    51.39326477050781,
                    "cafe"
                  ],
                  [
                    35.79930114746094,
                    51.46697998046875,
                    "cafe"
                  ],
                  [
                    35.76483917236328,
                    51.440834045410156,
                    "cafe"
                  ],
                  [
                    35.736289978027344,
                    51.33262634277344,
                    "cafe"
                  ],
                  [
                    35.79326629638672,
                    51.42427444458008,
                    "cafe"
                  ],
                  [
                    35.6976203918457,
                    51.394691467285156,
                    "cafe"
                  ],
                  [
                    35.79032516479492,
                    51.42139434814453,
                    "cafe"
                  ],
                  [
                    35.72048568725586,
                    51.41410827636719,
                    "cafe"
                  ],
                  [
                    35.7376708984375,
                    51.43244934082031,
                    "cafe"
                  ],
                  [
                    35.63514709472656,
                    51.40928649902344,
                    "cafe"
                  ],
                  [
                    35.78006362915039,
                    51.44975280761719,
                    "cafe"
                  ],
                  [
                    35.700767517089844,
                    51.39577102661133,
                    "cafe"
                  ]
                ],
                "index": [
                  782,
                  928,
                  1191,
                  3344,
                  3867,
                  4643,
                  5146,
                  5866,
                  7953,
                  9300,
                  9645,
                  9696,
                  14937,
                  17874,
                  18031,
                  18032,
                  18141,
                  18142,
                  18143,
                  18144,
                  18145,
                  18146,
                  18147,
                  18148,
                  18149,
                  18150,
                  19239,
                  99,
                  2080,
                  2285,
                  3217,
                  3218,
                  3219,
                  3367,
                  6083,
                  6269,
                  6775,
                  7019,
                  7020,
                  8802,
                  11068,
                  17658,
                  191,
                  604,
                  684,
                  698,
                  945,
                  1447,
                  1678,
                  1817,
                  1904,
                  1948,
                  1975,
                  2084,
                  2086,
                  2087,
                  2114,
                  2160,
                  2184,
                  2239,
                  2276,
                  2388,
                  2407,
                  2416,
                  2419,
                  2420,
                  2433,
                  2577,
                  2614,
                  2802,
                  2886,
                  3098,
                  3181,
                  3228,
                  3270,
                  3271,
                  3337,
                  3407,
                  3408,
                  3409,
                  3516,
                  3563,
                  3570,
                  3967,
                  4079,
                  4087,
                  4204,
                  4230,
                  4241,
                  4243,
                  4266,
                  4330,
                  4386,
                  4526,
                  4559,
                  4644,
                  4646,
                  4699,
                  4700,
                  4702,
                  4703,
                  4774,
                  4913,
                  4956,
                  4957,
                  4958,
                  5076,
                  5157,
                  5299,
                  5349,
                  5518,
                  5625,
                  5641,
                  5737,
                  5922,
                  6087,
                  6118,
                  6126,
                  6133,
                  6174,
                  6223,
                  6226,
                  6238,
                  6240,
                  6262,
                  6334,
                  6398,
                  6401,
                  6483,
                  6536,
                  6540,
                  6563,
                  6575,
                  6721,
                  6728,
                  6739,
                  6801,
                  6816,
                  6818,
                  6884,
                  6889,
                  7242,
                  7526,
                  7730,
                  7758,
                  7807,
                  7860,
                  7926,
                  7944,
                  8135,
                  8195,
                  8225,
                  8226,
                  8365,
                  8374,
                  8416,
                  8450,
                  8509,
                  8587,
                  8724,
                  8749,
                  8774,
                  8775,
                  8797,
                  8859,
                  8953,
                  8962,
                  8969,
                  9083,
                  9084,
                  9098,
                  9385,
                  9617,
                  9761,
                  9966,
                  9992,
                  10126,
                  10275,
                  10431,
                  10432,
                  10464,
                  10624,
                  10754,
                  10770,
                  10950,
                  11014,
                  11088,
                  11174,
                  11307,
                  11616,
                  11685,
                  11704,
                  11894,
                  12040,
                  12092,
                  12229,
                  12230,
                  12308,
                  12384,
                  12394,
                  12397,
                  12672,
                  12956,
                  12960,
                  13004,
                  13134,
                  13160,
                  13199,
                  13212,
                  13324,
                  13978,
                  14044,
                  14082,
                  14171,
                  14437,
                  14532,
                  14755,
                  14756,
                  15075,
                  15184,
                  15326,
                  15549,
                  15868,
                  16009,
                  16187,
                  16316,
                  16354,
                  17152,
                  17227,
                  17677,
                  17794,
                  18034,
                  18216,
                  18254,
                  18263,
                  18488,
                  18642,
                  18663,
                  18932,
                  19069,
                  19083
                ]
              }
            },
            "height": 800,
            "layout": "IPY_MODEL_7f0e0643151c4b4c8166724f7b2e8ab5",
            "value": "Hello World!"
          }
        },
        "7f0e0643151c4b4c8166724f7b2e8ab5": {
          "model_module": "@jupyter-widgets/base",
          "model_module_version": "1.2.0",
          "model_name": "LayoutModel",
          "state": {
            "_model_module": "@jupyter-widgets/base",
            "_model_module_version": "1.2.0",
            "_model_name": "LayoutModel",
            "_view_count": null,
            "_view_module": "@jupyter-widgets/base",
            "_view_module_version": "1.2.0",
            "_view_name": "LayoutView",
            "align_content": null,
            "align_items": null,
            "align_self": null,
            "border": null,
            "bottom": null,
            "display": null,
            "flex": null,
            "flex_flow": null,
            "grid_area": null,
            "grid_auto_columns": null,
            "grid_auto_flow": null,
            "grid_auto_rows": null,
            "grid_column": null,
            "grid_gap": null,
            "grid_row": null,
            "grid_template_areas": null,
            "grid_template_columns": null,
            "grid_template_rows": null,
            "height": null,
            "justify_content": null,
            "justify_items": null,
            "left": null,
            "margin": null,
            "max_height": null,
            "max_width": null,
            "min_height": null,
            "min_width": null,
            "object_fit": null,
            "object_position": null,
            "order": null,
            "overflow": null,
            "overflow_x": null,
            "overflow_y": null,
            "padding": null,
            "right": null,
            "top": null,
            "visibility": null,
            "width": null
          }
        }
      }
    }
  },
  "nbformat": 4,
  "nbformat_minor": 0
}
